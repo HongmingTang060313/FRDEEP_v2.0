{
 "cells": [
  {
   "cell_type": "markdown",
   "metadata": {
    "id": "8jHqVk9DMEVL"
   },
   "source": [
    "The script is to testify the dataset and evaluate it. \\\\\n",
    "Part 1: training/testing data visualization. \\\\\n",
    "Part 2: Dataset quality evaluation"
   ]
  },
  {
   "cell_type": "markdown",
   "metadata": {
    "id": "LfvVH2PaFXAT"
   },
   "source": [
    "Wait for update:\n",
    "\n",
    "1. The dataset would further require file names\n",
    "2. Sources need to be visualized to ensure that they are visible in each image central field"
   ]
  },
  {
   "cell_type": "markdown",
   "metadata": {
    "id": "iI0oVSeUMglL"
   },
   "source": [
    "**Part 0**: Package import"
   ]
  },
  {
   "cell_type": "markdown",
   "metadata": {
    "id": "U1FJ6-sENb1V"
   },
   "source": [
    "Daily package"
   ]
  },
  {
   "cell_type": "code",
   "execution_count": 1,
   "metadata": {
    "id": "9ra5sA87NHI3"
   },
   "outputs": [],
   "source": [
    "import matplotlib.pyplot as plt\n",
    "import numpy as np\n",
    "from tqdm import tqdm # training time estimation"
   ]
  },
  {
   "cell_type": "markdown",
   "metadata": {
    "id": "GU0dAm2ENgGF"
   },
   "source": [
    "Torch and Torch visualization package"
   ]
  },
  {
   "cell_type": "code",
   "execution_count": 2,
   "metadata": {
    "id": "LkH2wEGGNZi2"
   },
   "outputs": [],
   "source": [
    "import torch\n",
    "import torchvision\n",
    "import torchvision.transforms as transforms"
   ]
  },
  {
   "cell_type": "markdown",
   "metadata": {
    "id": "IQmI0-CANpXl"
   },
   "source": [
    "Dataset Package"
   ]
  },
  {
   "cell_type": "code",
   "execution_count": 3,
   "metadata": {
    "id": "nxQq62AnNsHH"
   },
   "outputs": [],
   "source": [
    "upper_dir = '/Users/tanghongming/Desktop/PhD/3rd_Year_PhD/Multi_Branch_CNN/GRG_vs_Normal_20200902/'\n",
    "from GRGNOM_foundation_20200902 import GRGNOM_MERGE"
   ]
  },
  {
   "cell_type": "markdown",
   "metadata": {
    "id": "_RdxNkJ5Nw_J"
   },
   "source": [
    "Import Dataset (training/testing)"
   ]
  },
  {
   "cell_type": "markdown",
   "metadata": {
    "id": "CIfn9TzlOX2u"
   },
   "source": [
    "(1). Transform function "
   ]
  },
  {
   "cell_type": "code",
   "execution_count": 4,
   "metadata": {
    "id": "Z8SFHcDdOSEz"
   },
   "outputs": [],
   "source": [
    "transform = transforms.Compose(\n",
    "    [transforms.ToTensor(),\n",
    "     transforms.Normalize([0.5],[0.5],[0.5])])"
   ]
  },
  {
   "cell_type": "markdown",
   "metadata": {
    "id": "vcnJX1WLOgsS"
   },
   "source": [
    "(2). Training set"
   ]
  },
  {
   "cell_type": "code",
   "execution_count": 5,
   "metadata": {
    "colab": {
     "base_uri": "https://localhost:8080/",
     "height": 102
    },
    "id": "PH3YFC1MOjDY",
    "outputId": "94643d48-b154-4371-9ed6-b50ccb59dcd6"
   },
   "outputs": [
    {
     "name": "stdout",
     "output_type": "stream",
     "text": [
      "(600, 18, 18, 1)\n",
      "(600, 100, 100, 1)\n",
      "<class 'numpy.ndarray'>\n",
      "<class 'numpy.ndarray'>\n",
      "<class 'numpy.ndarray'>\n"
     ]
    }
   ],
   "source": [
    "trainset = GRGNOM_MERGE(root1=upper_dir,root2=upper_dir,root3=upper_dir,root4=upper_dir,root5=upper_dir,root6=upper_dir,train=True, download=False, transform=transform) \n",
    "batch_size_train = 8 # Full size of training data\n",
    "trainloader_visualize = torch.utils.data.DataLoader(trainset, batch_size=batch_size_train, shuffle=True, num_workers=2)"
   ]
  },
  {
   "cell_type": "markdown",
   "metadata": {
    "id": "fyulpOTiOqen"
   },
   "source": [
    "(3). Testing set"
   ]
  },
  {
   "cell_type": "code",
   "execution_count": 6,
   "metadata": {
    "colab": {
     "base_uri": "https://localhost:8080/",
     "height": 102
    },
    "id": "1ic0GOVUOual",
    "outputId": "203f5dd9-0bf2-41b8-c8d2-8bdf9515c09a"
   },
   "outputs": [
    {
     "name": "stdout",
     "output_type": "stream",
     "text": [
      "(200, 18, 18, 1)\n",
      "(200, 100, 100, 1)\n",
      "<class 'numpy.ndarray'>\n",
      "<class 'numpy.ndarray'>\n",
      "<class 'numpy.ndarray'>\n"
     ]
    }
   ],
   "source": [
    "testset = GRGNOM_MERGE(root1=upper_dir,root2=upper_dir,root3=upper_dir,root4=upper_dir,root5=upper_dir,root6=upper_dir,train=False, download=False, transform=transform)\n",
    "batch_size_test = 8 # Full size of testing data\n",
    "testloader_visualize = torch.utils.data.DataLoader(testset, batch_size=batch_size_test, shuffle=True, num_workers=2)"
   ]
  },
  {
   "cell_type": "markdown",
   "metadata": {
    "id": "Cn12Hu6tO0td"
   },
   "source": [
    "(4). Class list"
   ]
  },
  {
   "cell_type": "code",
   "execution_count": 7,
   "metadata": {
    "id": "WMrWGZzNO23n"
   },
   "outputs": [],
   "source": [
    "classes = ('NOM', 'GRG')"
   ]
  },
  {
   "cell_type": "markdown",
   "metadata": {
    "id": "yXsKjX6AO_OF"
   },
   "source": [
    "**Part 1**: Data visualization"
   ]
  },
  {
   "cell_type": "markdown",
   "metadata": {
    "id": "bCfbqCy8PGCM"
   },
   "source": [
    "(0). Necessary visualization functions"
   ]
  },
  {
   "cell_type": "code",
   "execution_count": 8,
   "metadata": {
    "id": "i1HkwctGPKSx"
   },
   "outputs": [],
   "source": [
    "def imshow(img):\n",
    "    # unnormalize\n",
    "    img = img / 2 + 0.5\n",
    "    npimg = img.numpy()\n",
    "    plt.imshow(np.transpose(npimg, (1, 2, 0)))\n",
    "    plt.show()"
   ]
  },
  {
   "cell_type": "markdown",
   "metadata": {
    "id": "aMOGgIMCPmAh"
   },
   "source": [
    "get some random training images"
   ]
  },
  {
   "cell_type": "code",
   "execution_count": 9,
   "metadata": {
    "id": "KW1yW4EgPN5V"
   },
   "outputs": [],
   "source": [
    "dataiter = iter(trainloader_visualize)\n",
    "images1_tr,images2_tr, redshift_tr,size_tr,las_tr,object_id_tr, labels_tr = dataiter.next()"
   ]
  },
  {
   "cell_type": "markdown",
   "metadata": {
    "id": "h3de0eDf7Ewc"
   },
   "source": [
    "Sample data sizes"
   ]
  },
  {
   "cell_type": "code",
   "execution_count": 10,
   "metadata": {
    "colab": {
     "base_uri": "https://localhost:8080/",
     "height": 119
    },
    "id": "ZJSEOFpF7HP2",
    "outputId": "fbb28a08-2f09-4678-b6e6-297f13c601e4"
   },
   "outputs": [
    {
     "name": "stdout",
     "output_type": "stream",
     "text": [
      "torch.Size([8, 1, 18, 18])\n",
      "torch.Size([8, 1, 100, 100])\n",
      "torch.Size([8, 1])\n",
      "torch.Size([8, 1])\n",
      "torch.Size([8, 1])\n",
      "(8,)\n",
      "torch.Size([8])\n"
     ]
    }
   ],
   "source": [
    "print(np.shape(images1_tr))\n",
    "print(np.shape(images2_tr))\n",
    "print(np.shape(redshift_tr))\n",
    "print(np.shape(size_tr))\n",
    "print(np.shape(las_tr))\n",
    "print(np.shape(object_id_tr))\n",
    "print(np.shape(labels_tr))"
   ]
  },
  {
   "cell_type": "markdown",
   "metadata": {
    "id": "l-qEwZZRPsX8"
   },
   "source": [
    "Visualize random NVSS image sample"
   ]
  },
  {
   "cell_type": "code",
   "execution_count": 11,
   "metadata": {
    "colab": {
     "base_uri": "https://localhost:8080/",
     "height": 336
    },
    "id": "8wu2RDwBPw0R",
    "outputId": "f32e84dc-286d-48bf-ee6b-f62945208ead"
   },
   "outputs": [
    {
     "data": {
      "image/png": "[encoded data removed]",
      "text/plain": [
       "<Figure size 432x288 with 1 Axes>"
      ]
     },
     "metadata": {},
     "output_type": "display_data"
    },
    {
     "name": "stdout",
     "output_type": "stream",
     "text": [
      "1  NOM 2  NOM 3  NOM 4  GRG\n",
      "5  GRG 6  GRG 7  NOM 8  NOM\n"
     ]
    }
   ],
   "source": [
    "num = 4\n",
    "# show images (data 1)\n",
    "imshow(torchvision.utils.make_grid(images1_tr,nrow=num))\n",
    "# print labels\n",
    "for j in range(batch_size_train):\n",
    "    if j%num == 0:\n",
    "        print(' '.join('%1d%5s' % (j+1,classes[labels_tr[j]]) for j in range(j,j+num)))"
   ]
  },
  {
   "cell_type": "markdown",
   "metadata": {
    "id": "b0Gj0d537Oeb"
   },
   "source": [
    "Visualize random FIRST image sample\n"
   ]
  },
  {
   "cell_type": "code",
   "execution_count": 12,
   "metadata": {
    "colab": {
     "base_uri": "https://localhost:8080/",
     "height": 337
    },
    "id": "IHxqChPOZ0Vg",
    "outputId": "49f86b62-8625-4d8b-eeef-3eebc9bb3d9b"
   },
   "outputs": [
    {
     "data": {
      "image/png": "[encoded data removed]",
      "text/plain": [
       "<Figure size 432x288 with 1 Axes>"
      ]
     },
     "metadata": {},
     "output_type": "display_data"
    },
    {
     "name": "stdout",
     "output_type": "stream",
     "text": [
      "1  NOM 2  NOM 3  NOM 4  GRG\n",
      "5  GRG 6  GRG 7  NOM 8  NOM\n"
     ]
    }
   ],
   "source": [
    "# show images (data 2)\n",
    "imshow(torchvision.utils.make_grid(images2_tr,nrow=num))\n",
    "# print labels\n",
    "for j in range(batch_size_train):\n",
    "    if j%num == 0:\n",
    "        print(' '.join('%1d%5s' % (j+1,classes[labels_tr[j]]) for j in range(j,j+num)))"
   ]
  },
  {
   "cell_type": "markdown",
   "metadata": {
    "id": "aRg3Dp5g760C"
   },
   "source": [
    "Sample **redshift**"
   ]
  },
  {
   "cell_type": "code",
   "execution_count": 13,
   "metadata": {
    "colab": {
     "base_uri": "https://localhost:8080/",
     "height": 357
    },
    "id": "5xIINliT7858",
    "outputId": "e0a79293-a105-438b-fcff-d3ed34b24567"
   },
   "outputs": [
    {
     "name": "stdout",
     "output_type": "stream",
     "text": [
      "[[0.20827299]\n",
      " [0.221843  ]\n",
      " [0.36356801]\n",
      " [0.585     ]]\n",
      "1  NOM 2  NOM 3  NOM 4  GRG\n",
      "[[0.42      ]\n",
      " [0.392     ]\n",
      " [0.31697899]\n",
      " [0.31181699]]\n",
      "5  GRG 6  GRG 7  NOM 8  NOM\n"
     ]
    }
   ],
   "source": [
    "redshift_tr.numpy()\n",
    "# print labels\n",
    "for j in range(batch_size_train):\n",
    "    if j%num == 0:\n",
    "        print(redshift_tr.numpy()[j:j+num])\n",
    "        print(' '.join('%1d%5s' % (j+1,classes[labels_tr[j]]) for j in range(j,j+num)))"
   ]
  },
  {
   "cell_type": "markdown",
   "metadata": {},
   "source": [
    "Object id"
   ]
  },
  {
   "cell_type": "code",
   "execution_count": 14,
   "metadata": {},
   "outputs": [
    {
     "name": "stdout",
     "output_type": "stream",
     "text": [
      "('RGZJ071714.8+402106', 'RGZJ021635.1+040718', 'RGZJ070836.8+475625', 'Dabhade20')\n",
      "1  NOM 2  NOM 3  NOM 4  GRG\n",
      "('KuzmiczJ1326+4934', 'Dabhade89', 'RGZJ005653.6+102010', 'RGZJ071547.2+521514')\n",
      "5  GRG 6  GRG 7  NOM 8  NOM\n"
     ]
    }
   ],
   "source": [
    "for j in range(batch_size_train):\n",
    "    if j%num == 0:\n",
    "        print(object_id_tr[j:j+num])\n",
    "        print(' '.join('%1d%5s' % (j+1,classes[labels_tr[j]]) for j in range(j,j+num)))"
   ]
  },
  {
   "cell_type": "markdown",
   "metadata": {
    "id": "YZhGQ4j18r9P"
   },
   "source": [
    "Then get testing sample"
   ]
  },
  {
   "cell_type": "code",
   "execution_count": 15,
   "metadata": {
    "id": "9iLlS_wQ877V"
   },
   "outputs": [],
   "source": [
    "dataiter = iter(testloader_visualize)\n",
    "images1_te,images2_te, redshift_te, size_te, las_te, object_id_te, labels_te = dataiter.next()"
   ]
  },
  {
   "cell_type": "markdown",
   "metadata": {
    "id": "PYvQLQJm9Ate"
   },
   "source": [
    "Sample data sizes"
   ]
  },
  {
   "cell_type": "code",
   "execution_count": 16,
   "metadata": {
    "colab": {
     "base_uri": "https://localhost:8080/",
     "height": 119
    },
    "id": "57CGxOAK8_1G",
    "outputId": "c2d1903f-cfc8-4e7e-f3fd-879c3e11e59b"
   },
   "outputs": [
    {
     "name": "stdout",
     "output_type": "stream",
     "text": [
      "torch.Size([8, 1, 18, 18])\n",
      "torch.Size([8, 1, 100, 100])\n",
      "torch.Size([8, 1])\n",
      "torch.Size([8, 1])\n",
      "torch.Size([8, 1])\n",
      "(8,)\n",
      "torch.Size([8])\n"
     ]
    }
   ],
   "source": [
    "print(np.shape(images1_te))\n",
    "print(np.shape(images2_te))\n",
    "print(np.shape(redshift_te))\n",
    "print(np.shape(size_te))\n",
    "print(np.shape(las_te))\n",
    "print(np.shape(object_id_te))\n",
    "print(np.shape(labels_te))"
   ]
  },
  {
   "cell_type": "markdown",
   "metadata": {
    "id": "y1vwU5aZ9Jwy"
   },
   "source": [
    "Visualize random NVSS image sample"
   ]
  },
  {
   "cell_type": "code",
   "execution_count": 17,
   "metadata": {
    "colab": {
     "base_uri": "https://localhost:8080/",
     "height": 336
    },
    "id": "dDskEIxA9Suv",
    "outputId": "3b2624d2-7cf2-45c7-d9d6-ab983e8c0c3e"
   },
   "outputs": [
    {
     "data": {
      "image/png": "[encoded data removed]",
      "text/plain": [
       "<Figure size 432x288 with 1 Axes>"
      ]
     },
     "metadata": {},
     "output_type": "display_data"
    },
    {
     "name": "stdout",
     "output_type": "stream",
     "text": [
      "1  GRG 2  NOM 3  GRG 4  NOM\n",
      "5  NOM 6  NOM 7  GRG 8  NOM\n"
     ]
    }
   ],
   "source": [
    "num = 4\n",
    "# show images (data 1)\n",
    "imshow(torchvision.utils.make_grid(images1_te,nrow=num))\n",
    "# print labels\n",
    "for j in range(batch_size_test):\n",
    "    if j%num == 0:\n",
    "        print(' '.join('%1d%5s' % (j+1,classes[labels_te[j]]) for j in range(j,j+num)))"
   ]
  },
  {
   "cell_type": "markdown",
   "metadata": {
    "id": "TWXZrjFQ9V13"
   },
   "source": [
    "Visualize random FIRST image sample\n"
   ]
  },
  {
   "cell_type": "code",
   "execution_count": 18,
   "metadata": {
    "colab": {
     "base_uri": "https://localhost:8080/",
     "height": 337
    },
    "id": "IlogAHJg9bna",
    "outputId": "b3111528-03dd-4a7a-dc7d-e8a8b15bd2ef"
   },
   "outputs": [
    {
     "data": {
      "image/png": "[encoded data removed]",
      "text/plain": [
       "<Figure size 432x288 with 1 Axes>"
      ]
     },
     "metadata": {},
     "output_type": "display_data"
    },
    {
     "name": "stdout",
     "output_type": "stream",
     "text": [
      "1  GRG 2  NOM 3  GRG 4  NOM\n",
      "5  NOM 6  NOM 7  GRG 8  NOM\n"
     ]
    }
   ],
   "source": [
    "# show images (data 1)\n",
    "imshow(torchvision.utils.make_grid(images2_te,nrow=num))\n",
    "# print labels\n",
    "for j in range(batch_size_test):\n",
    "    if j%num == 0:\n",
    "        print(' '.join('%1d%5s' % (j+1,classes[labels_te[j]]) for j in range(j,j+num)))"
   ]
  },
  {
   "cell_type": "markdown",
   "metadata": {
    "id": "YaifE6589edo"
   },
   "source": [
    "Sample **redshift**"
   ]
  },
  {
   "cell_type": "code",
   "execution_count": 19,
   "metadata": {
    "colab": {
     "base_uri": "https://localhost:8080/",
     "height": 357
    },
    "id": "Lxe5DnL29rXA",
    "outputId": "72f0d898-7e6e-4921-e65e-5224259d5658"
   },
   "outputs": [
    {
     "name": "stdout",
     "output_type": "stream",
     "text": [
      "[[0.527   ]\n",
      " [0.263614]\n",
      " [0.509   ]\n",
      " [0.211988]]\n",
      "1  GRG 2  NOM 3  GRG 4  NOM\n",
      "[[0.34977001]\n",
      " [0.28621599]\n",
      " [0.393     ]\n",
      " [0.32853699]]\n",
      "5  NOM 6  NOM 7  GRG 8  NOM\n"
     ]
    }
   ],
   "source": [
    "# print labels\n",
    "for j in range(batch_size_test):\n",
    "    if j%num == 0:\n",
    "        print(redshift_te.numpy()[j:j+num])\n",
    "        print(' '.join('%1d%5s' % (j+1,classes[labels_te[j]]) for j in range(j,j+num)))"
   ]
  },
  {
   "cell_type": "markdown",
   "metadata": {
    "id": "AA9Z6j3pDIo-"
   },
   "source": [
    "**Part 2**: Evaluation"
   ]
  },
  {
   "cell_type": "markdown",
   "metadata": {
    "id": "Oqt9h_ZgDNoV"
   },
   "source": [
    "1. Redshift vs. Size"
   ]
  },
  {
   "cell_type": "code",
   "execution_count": 20,
   "metadata": {
    "id": "lzfZQ9WfDMuv"
   },
   "outputs": [],
   "source": [
    "train_eval = torch.utils.data.DataLoader(trainset, batch_size=600, shuffle=True, num_workers=2)\n",
    "for i, data in enumerate(train_eval, 0):\n",
    "    # get the inputs\n",
    "    inputs1, inputs2, redshift,size,las,object_id,labels = data\n",
    "    size_arr_train = np.reshape(size.numpy(),(600))\n",
    "    z_arr_train = np.reshape(redshift.numpy(),(600))\n",
    "    las_arr_train = np.reshape(las.numpy(),(600))\n",
    "    label_arr_train = labels.numpy()\n",
    "    object_id_train = object_id\n",
    "test_eval = torch.utils.data.DataLoader(trainset, batch_size=200, shuffle=True, num_workers=2)\n",
    "for i, data in enumerate(test_eval, 0):\n",
    "    # get the inputs\n",
    "    inputs1, inputs2, redshift,size,las,object_id,labels = data\n",
    "    size_arr_test = np.reshape(size.numpy(),(200))\n",
    "    z_arr_test = np.reshape(redshift.numpy(),(200))\n",
    "    las_arr_test = np.reshape(las.numpy(),(200))\n",
    "    label_arr_test = labels.numpy()\n",
    "    object_id_test = object_id"
   ]
  },
  {
   "cell_type": "code",
   "execution_count": 21,
   "metadata": {
    "colab": {
     "base_uri": "https://localhost:8080/",
     "height": 396
    },
    "id": "sHZdxDVmDS8l",
    "outputId": "931a306a-0f1d-4ba6-aec7-fc7d81e8822b"
   },
   "outputs": [
    {
     "data": {
      "image/png": "[encoded data removed]",
      "text/plain": [
       "<Figure size 432x432 with 1 Axes>"
      ]
     },
     "metadata": {},
     "output_type": "display_data"
    }
   ],
   "source": [
    "fig = plt.figure(figsize=(6,6))\n",
    "plt.scatter(z_arr_train,size_arr_train,color='red')\n",
    "plt.scatter(z_arr_test,size_arr_test,color='purple')\n",
    "plt.xlabel('Redshift',fontsize=14)\n",
    "plt.ylabel('Size [Mpc]',fontsize=14)\n",
    "plt.xticks(fontsize=14)\n",
    "plt.yticks(fontsize=14)\n",
    "plt.show()"
   ]
  },
  {
   "cell_type": "markdown",
   "metadata": {
    "id": "v8SopIn5Il2D"
   },
   "source": [
    "Training set redshifts"
   ]
  },
  {
   "cell_type": "code",
   "execution_count": 22,
   "metadata": {
    "colab": {
     "base_uri": "https://localhost:8080/",
     "height": 374
    },
    "id": "EmnqXiQ_GfZ2",
    "outputId": "8b987bd1-3705-4646-c6ca-82ac07ae08de"
   },
   "outputs": [
    {
     "data": {
      "image/png": "[encoded data removed]",
      "text/plain": [
       "<Figure size 432x432 with 1 Axes>"
      ]
     },
     "metadata": {},
     "output_type": "display_data"
    }
   ],
   "source": [
    "z_train_nom, z_train_grg = [],[]\n",
    "for kk in range(len(z_arr_train)):\n",
    "    if label_arr_train[kk] == 1:\n",
    "        z_train_grg.append(z_arr_train[kk])\n",
    "    elif label_arr_train[kk] == 0:\n",
    "        z_train_nom.append(z_arr_train[kk])\n",
    "fig = plt.figure(figsize=(6,6))\n",
    "plt.hist(z_train_nom,bins=20,histtype='step',color='red')\n",
    "plt.hist(z_train_grg,bins=20,histtype='step',color='blue')\n",
    "plt.show()"
   ]
  },
  {
   "cell_type": "markdown",
   "metadata": {
    "id": "fsWdnvsyIqtK"
   },
   "source": [
    "Testing set redshifts"
   ]
  },
  {
   "cell_type": "code",
   "execution_count": 23,
   "metadata": {
    "colab": {
     "base_uri": "https://localhost:8080/",
     "height": 374
    },
    "id": "LpVKXX_0IsbZ",
    "outputId": "b9386d09-0ada-4ad4-aea2-ea0f6f372e8f"
   },
   "outputs": [
    {
     "data": {
      "image/png": "[encoded data removed]",
      "text/plain": [
       "<Figure size 432x432 with 1 Axes>"
      ]
     },
     "metadata": {},
     "output_type": "display_data"
    }
   ],
   "source": [
    "z_test_nom, z_test_grg = [],[]\n",
    "for kk in range(len(z_arr_test)):\n",
    "    if label_arr_test[kk] == 1:\n",
    "        z_test_grg.append(z_arr_test[kk])\n",
    "    elif label_arr_test[kk] == 0:\n",
    "        z_test_nom.append(z_arr_test[kk])\n",
    "fig = plt.figure(figsize=(6,6))\n",
    "plt.hist(z_test_nom,bins=20,histtype='step',color='red')\n",
    "plt.hist(z_test_grg,bins=20,histtype='step',color='blue')\n",
    "plt.show()"
   ]
  },
  {
   "cell_type": "markdown",
   "metadata": {
    "id": "0TCJGrUFzYNY"
   },
   "source": [
    "2. las vs. redshift"
   ]
  },
  {
   "cell_type": "code",
   "execution_count": 24,
   "metadata": {
    "colab": {
     "base_uri": "https://localhost:8080/",
     "height": 396
    },
    "id": "E60QLvfzzdhf",
    "outputId": "8843bd7c-16b7-482c-b77d-49c601cf3d28"
   },
   "outputs": [
    {
     "data": {
      "image/png": "[encoded data removed]",
      "text/plain": [
       "<Figure size 432x432 with 1 Axes>"
      ]
     },
     "metadata": {},
     "output_type": "display_data"
    }
   ],
   "source": [
    "fig = plt.figure(figsize=(6,6))\n",
    "plt.scatter(z_arr_train,las_arr_train,color='red')\n",
    "plt.scatter(z_arr_test,las_arr_test,color='purple')\n",
    "plt.xlabel('Redshift',fontsize=14)\n",
    "plt.ylabel('LAS [arcsec]',fontsize=14)\n",
    "plt.xticks(fontsize=14)\n",
    "plt.yticks(fontsize=14)\n",
    "plt.show()"
   ]
  },
  {
   "cell_type": "markdown",
   "metadata": {
    "id": "PaDpNUMz0Lf0"
   },
   "source": [
    "Training set LAS"
   ]
  },
  {
   "cell_type": "code",
   "execution_count": 25,
   "metadata": {
    "colab": {
     "base_uri": "https://localhost:8080/",
     "height": 374
    },
    "id": "bazRCnAs0OGs",
    "outputId": "d66bfb4d-cd90-4efe-c6a3-4402bb582b8b"
   },
   "outputs": [
    {
     "data": {
      "image/png": "[encoded data removed]",
      "text/plain": [
       "<Figure size 432x432 with 1 Axes>"
      ]
     },
     "metadata": {},
     "output_type": "display_data"
    }
   ],
   "source": [
    "las_train_nom, las_train_grg = [],[]\n",
    "for kk in range(len(las_arr_train)):\n",
    "    if label_arr_train[kk] == 1:\n",
    "        las_train_grg.append(las_arr_train[kk])\n",
    "    elif label_arr_train[kk] == 0:\n",
    "        las_train_nom.append(las_arr_train[kk])\n",
    "fig = plt.figure(figsize=(6,6))\n",
    "plt.hist(las_train_nom,bins=20,histtype='step',color='red')\n",
    "plt.hist(las_train_grg,bins=20,histtype='step',color='blue')\n",
    "plt.yscale('log')\n",
    "plt.show()"
   ]
  },
  {
   "cell_type": "markdown",
   "metadata": {
    "id": "xqOFPxAT0fmA"
   },
   "source": [
    "Testing set LAS"
   ]
  },
  {
   "cell_type": "code",
   "execution_count": 26,
   "metadata": {
    "colab": {
     "base_uri": "https://localhost:8080/",
     "height": 374
    },
    "id": "hKqjPhv-0ezs",
    "outputId": "afad23e5-6775-470c-dd6c-0abe49d09875"
   },
   "outputs": [
    {
     "data": {
      "image/png": "[encoded data removed]",
      "text/plain": [
       "<Figure size 432x432 with 1 Axes>"
      ]
     },
     "metadata": {},
     "output_type": "display_data"
    }
   ],
   "source": [
    "las_test_nom, las_test_grg = [],[]\n",
    "for kk in range(len(las_arr_test)):\n",
    "    if label_arr_test[kk] == 1:\n",
    "        las_test_grg.append(las_arr_test[kk])\n",
    "    elif label_arr_test[kk] == 0:\n",
    "        las_test_nom.append(las_arr_test[kk])\n",
    "fig = plt.figure(figsize=(6,6))\n",
    "plt.hist(las_test_nom,bins=20,histtype='step',color='red')\n",
    "plt.hist(las_test_grg,bins=20,histtype='step',color='blue')\n",
    "plt.yscale('log')\n",
    "plt.show()"
   ]
  },
  {
   "cell_type": "markdown",
   "metadata": {},
   "source": [
    "LAS (Total)"
   ]
  },
  {
   "cell_type": "code",
   "execution_count": 27,
   "metadata": {},
   "outputs": [
    {
     "data": {
      "image/png": "[encoded data removed]",
      "text/plain": [
       "<Figure size 432x432 with 1 Axes>"
      ]
     },
     "metadata": {},
     "output_type": "display_data"
    }
   ],
   "source": [
    "las_nom, las_grg = [],[]\n",
    "size_nom, size_grg = [],[]\n",
    "# Train set\n",
    "for kk in range(len(las_arr_train)):\n",
    "    if label_arr_train[kk] == 1:\n",
    "        las_grg.append(las_arr_train[kk])\n",
    "        size_grg.append(size_arr_train[kk])\n",
    "    elif label_arr_train[kk] == 0:\n",
    "        las_nom.append(las_arr_train[kk])\n",
    "        size_nom.append(size_arr_train[kk])\n",
    "# Test_set\n",
    "for kk in range(len(las_arr_test)):\n",
    "    if label_arr_test[kk] == 1:\n",
    "        las_grg.append(las_arr_test[kk])\n",
    "        size_grg.append(size_arr_train[kk])\n",
    "    elif label_arr_test[kk] == 0:\n",
    "        las_nom.append(las_arr_test[kk])\n",
    "        size_nom.append(size_arr_train[kk])\n",
    "fig = plt.figure(figsize=(6,6))\n",
    "plt.scatter(las_nom,size_nom,marker='o',color='red',label='NOM')\n",
    "plt.scatter(las_grg,size_grg,marker='+',color='blue',label='GRG')\n",
    "plt.xlabel('LAS [arcsec]',fontsize=14)\n",
    "plt.ylabel('Size [Mpc]',fontsize=14)\n",
    "plt.xticks(fontsize=14)\n",
    "plt.yticks(fontsize=14)\n",
    "plt.legend(loc='best',fontsize=14)\n",
    "plt.show()"
   ]
  },
  {
   "cell_type": "markdown",
   "metadata": {},
   "source": [
    "Source size (Total)"
   ]
  },
  {
   "cell_type": "code",
   "execution_count": 28,
   "metadata": {},
   "outputs": [
    {
     "data": {
      "image/png": "[encoded data removed]",
      "text/plain": [
       "<Figure size 432x432 with 1 Axes>"
      ]
     },
     "metadata": {},
     "output_type": "display_data"
    }
   ],
   "source": [
    "z_nom, z_grg = [],[]\n",
    "# Train set\n",
    "for kk in range(len(z_arr_train)):\n",
    "    if label_arr_train[kk] == 1:\n",
    "        z_grg.append(z_arr_train[kk])\n",
    "    elif label_arr_train[kk] == 0:\n",
    "        z_nom.append(z_arr_train[kk])\n",
    "# Test_set\n",
    "for kk in range(len(z_arr_test)):\n",
    "    if label_arr_test[kk] == 1:\n",
    "        z_grg.append(z_arr_test[kk])\n",
    "    elif label_arr_test[kk] == 0:\n",
    "        z_nom.append(z_arr_test[kk])\n",
    "fig = plt.figure(figsize=(6,6))\n",
    "plt.scatter(z_nom,size_nom,marker='o',color='red',label='NOM')\n",
    "plt.scatter(z_grg,size_grg,marker='+',color='blue',label='GRG')\n",
    "plt.legend(loc='best',fontsize=14)\n",
    "plt.xlabel('Redshift',fontsize=14)\n",
    "plt.ylabel('Size [Mpc]',fontsize=14)\n",
    "plt.xticks(fontsize=14)\n",
    "plt.yticks(fontsize=14)\n",
    "plt.show()"
   ]
  },
  {
   "cell_type": "markdown",
   "metadata": {},
   "source": [
    "Stack Together"
   ]
  },
  {
   "cell_type": "code",
   "execution_count": 29,
   "metadata": {},
   "outputs": [
    {
     "name": "stdout",
     "output_type": "stream",
     "text": [
      "0.089047 0.5022979999999999\n",
      "0.254 3.22\n"
     ]
    },
    {
     "data": {
      "image/png": "[encoded data removed]",
      "text/plain": [
       "<Figure size 864x432 with 2 Axes>"
      ]
     },
     "metadata": {},
     "output_type": "display_data"
    }
   ],
   "source": [
    "z_nom,z_grg = [],[]\n",
    "las_nom,las_grg = [],[]\n",
    "size_nom,size_grg = [],[]\n",
    "# train set\n",
    "for kk in range(len(size_arr_train)):\n",
    "    if size_arr_train[kk] <= 0.5:\n",
    "        size_nom.append(size_arr_train[kk])\n",
    "        z_nom.append(z_arr_train[kk])\n",
    "        las_nom.append(las_arr_train[kk])\n",
    "    else:\n",
    "        size_grg.append(size_arr_train[kk])\n",
    "        z_grg.append(z_arr_train[kk])\n",
    "        las_grg.append(las_arr_train[kk])\n",
    "# test set\n",
    "for kk in range(len(size_arr_test)):\n",
    "    if size_arr_test[kk] <= 0.5:\n",
    "        size_nom.append(size_arr_test[kk])\n",
    "        z_nom.append(z_arr_test[kk])\n",
    "        las_nom.append(las_arr_test[kk])\n",
    "    else:\n",
    "        size_grg.append(size_arr_test[kk])\n",
    "        z_grg.append(z_arr_test[kk])\n",
    "        las_grg.append(las_arr_test[kk])\n",
    "\n",
    "fig = plt.figure(figsize=(12,6))\n",
    "# Redshift vs. Source Size\n",
    "plt.subplot(121)\n",
    "plt.scatter(z_nom,size_nom,marker='o',color='red',label='NOM')\n",
    "plt.scatter(z_grg,size_grg,marker='+',color='blue',label='GRG')\n",
    "plt.legend(loc='best',fontsize=14)\n",
    "plt.xlabel('Redshift',fontsize=14)\n",
    "plt.ylabel('Size [Mpc]',fontsize=14)\n",
    "plt.xticks(fontsize=14)\n",
    "plt.yticks(fontsize=14)\n",
    "# LAS vs. Source Size\n",
    "plt.subplot(122)\n",
    "plt.scatter(las_nom,size_nom,marker='o',color='red',label='NOM')\n",
    "plt.scatter(las_grg,size_grg,marker='+',color='blue',label='GRG')\n",
    "plt.xlabel('LAS [arcsec]',fontsize=14)\n",
    "plt.ylabel('Size [Mpc]',fontsize=14)\n",
    "plt.xticks(fontsize=14)\n",
    "plt.yticks(fontsize=14)\n",
    "plt.legend(loc='best',fontsize=14)\n",
    "plt.savefig('GRGNOM_main_parameter_class_diff.png')\n",
    "#plt.show()\n",
    "\n",
    "print(min(z_nom),max(z_nom))\n",
    "print(min(z_grg),max(z_grg))"
   ]
  },
  {
   "cell_type": "markdown",
   "metadata": {},
   "source": [
    "# GRG catalogue distribution"
   ]
  },
  {
   "cell_type": "code",
   "execution_count": 30,
   "metadata": {},
   "outputs": [],
   "source": [
    "GRG_train_id, GRG_test_id = [],[]\n",
    "Kuz_train_num,Kuz_test_num = 0, 0\n",
    "Dab_train_num,Dab_test_num = 0, 0\n",
    "# GRG in the training set\n",
    "for element in object_id_train:\n",
    "    if 'Kuz' in element:\n",
    "        GRG_train_id.append(element)\n",
    "        Kuz_train_num += 1\n",
    "    elif'Dab' in element:\n",
    "        GRG_train_id.append(element)\n",
    "        Dab_train_num += 1\n",
    "# GRG in the testing set\n",
    "for element in object_id_test:\n",
    "    if 'Kuz' in element:\n",
    "        GRG_test_id.append(element)\n",
    "        Kuz_test_num += 1\n",
    "    elif 'Dab' in element:\n",
    "        GRG_test_id.append(element)\n",
    "        Dab_test_num += 1"
   ]
  },
  {
   "cell_type": "code",
   "execution_count": 31,
   "metadata": {},
   "outputs": [
    {
     "name": "stdout",
     "output_type": "stream",
     "text": [
      "Training set has 52 Kuzmicz sample, along with 101 Dabhade sample.\n",
      "Testing set has 15 Kuzmicz sample, along with 34 Dabhade sample.\n"
     ]
    }
   ],
   "source": [
    "print(f'Training set has {Kuz_train_num} Kuzmicz sample, along with {Dab_train_num} Dabhade sample.')\n",
    "print(f'Testing set has {Kuz_test_num} Kuzmicz sample, along with {Dab_test_num} Dabhade sample.')"
   ]
  },
  {
   "cell_type": "code",
   "execution_count": 32,
   "metadata": {},
   "outputs": [
    {
     "name": "stdout",
     "output_type": "stream",
     "text": [
      "0.5148514851485149 0.4411764705882353\n"
     ]
    }
   ],
   "source": [
    "train_ratio = Kuz_train_num/Dab_train_num\n",
    "test_ratio = Kuz_test_num/Dab_test_num\n",
    "print(train_ratio,test_ratio)"
   ]
  },
  {
   "cell_type": "markdown",
   "metadata": {},
   "source": [
    "# Visualize Kuzmicz Testing samples"
   ]
  },
  {
   "cell_type": "code",
   "execution_count": 33,
   "metadata": {},
   "outputs": [
    {
     "name": "stdout",
     "output_type": "stream",
     "text": [
      "['KuzmiczJ1344+3317', 'KuzmiczJ1235+2120', 'KuzmiczJ1543-0112', 'KuzmiczJ1235+3925', 'KuzmiczJ1327+1748', 'KuzmiczJ1706+4340', 'KuzmiczJ1702+4217', 'KuzmiczJ1030+5310', 'KuzmiczJ1511+0751', 'KuzmiczJ1304+2454', 'KuzmiczJ1353+2631', 'KuzmiczJ0812+3031', 'KuzmiczJ1412+4212', 'KuzmiczJ1604+3731', 'KuzmiczJ0809+2912']\n"
     ]
    }
   ],
   "source": [
    "Kuz_GRG_test = [i for i in GRG_test_id if 'Kuzmicz' in i]\n",
    "print(Kuz_GRG_test)"
   ]
  }
 ],
 "metadata": {
  "colab": {
   "collapsed_sections": [],
   "name": "Dataset_evaluation.ipynb",
   "provenance": []
  },
  "kernelspec": {
   "display_name": "Python 3",
   "language": "python",
   "name": "python3"
  },
  "language_info": {
   "codemirror_mode": {
    "name": "ipython",
    "version": 3
   },
   "file_extension": ".py",
   "mimetype": "text/x-python",
   "name": "python",
   "nbconvert_exporter": "python",
   "pygments_lexer": "ipython3",
   "version": "3.6.8"
  }
 },
 "nbformat": 4,
 "nbformat_minor": 1
}
