{
 "cells": [
  {
   "cell_type": "markdown",
   "metadata": {},
   "source": [
    "This notebook is to apply sigma clipping upon selected FITS images.\n",
    "Afterwards, we convert these images to png format."
   ]
  },
  {
   "cell_type": "code",
   "execution_count": 1,
   "metadata": {},
   "outputs": [],
   "source": [
    "from astropy.io import fits\n",
    "from tqdm import tqdm\n",
    "from PIL import Image\n",
    "import numpy as np\n",
    "import os\n",
    "from astropy.stats import sigma_clipped_stats\n",
    "import matplotlib.pyplot as plt"
   ]
  },
  {
   "cell_type": "markdown",
   "metadata": {},
   "source": [
    "Function"
   ]
  },
  {
   "cell_type": "code",
   "execution_count": 2,
   "metadata": {},
   "outputs": [],
   "source": [
    "def get_fits_list(datadir):\n",
    "    \"\"\"\n",
    "        This function returns file names in .fits format under given directory.\n",
    "\n",
    "        Args:\n",
    "        datadir: the directory where the fits files are saved.\n",
    "\n",
    "        Returns:\n",
    "        fits_list: a list of file names under the given directory.\n",
    "        \n",
    "    \"\"\"\n",
    "    # get list of FITS files:\n",
    "    fits_list = []\n",
    "    # Iterate files over directory\n",
    "    for filename in os.listdir(datadir):\n",
    "        if filename.endswith(\".fits\"):\n",
    "            name = os.path.join(filename)\n",
    "            fits_list.append(name)\n",
    "    print('Number of fits file under the directory: ',len(fits_list))\n",
    "    return fits_list\n",
    "\n",
    "def read_fits_image(fitsfile):\n",
    "\n",
    "    \"\"\"\n",
    "        This function extracts the image data from a FITS image, clips\n",
    "        and linearly scales it.\n",
    "\n",
    "        Args:\n",
    "        fitsfile: Path to the input FITS file\n",
    "\n",
    "        Returns:\n",
    "        image_data: Numpy array containing image from FITS file\n",
    "\n",
    "        Raises:\n",
    "        KeyError: Raises an exception.\n",
    "    \"\"\"\n",
    "\n",
    "    with fits.open(fitsfile, ignore_missing_end=True) as hdu:\n",
    "        image_data = hdu[0].data\n",
    "        hdu.close()\n",
    "\n",
    "    image_data = fits.getdata(fitsfile)\n",
    "    \n",
    "    # set pixels < 3*noise to zero:\n",
    "    a = sigma_clipped_stats(image_data,sigma=3.0)\n",
    "    if a == 0.0:\n",
    "        print(fitsfile)\n",
    "    image_data[np.where(image_data<=3*a[2])] = 0.0\n",
    "    \n",
    "    # normalise to [0, 1]:\n",
    "    image_max, image_min = image_data.max(), image_data.min()\n",
    "    image_data = (image_data - image_min)/(image_max - image_min)\n",
    "\n",
    "    # remap to [0, 255] for greyscale:\n",
    "    image_data*=255.0\n",
    "    \n",
    "    return image_data\n",
    "\n",
    "# ---------------------------------------------------------------------------------------------------\n",
    "\n",
    "def image_convert(name, image_data):\n",
    "\n",
    "    \"\"\"\n",
    "        This function writes a PNG file from a numpy array.\n",
    "\n",
    "        Args:\n",
    "        name: Name of the output file without the .png suffix\n",
    "        image_data: Input numpy array\n",
    "\n",
    "        Returns:\n",
    "        Writes PNG file to disk.\n",
    "\n",
    "        Raises:\n",
    "        KeyError: Raises an exception.\n",
    "    \"\"\"\n",
    "\n",
    "    im = Image.fromarray(image_data)\n",
    "    im = im.convert('L')\n",
    "    im.save(name+\".png\")\n",
    "\n",
    "    return"
   ]
  },
  {
   "cell_type": "markdown",
   "metadata": {},
   "source": [
    "Now, we could convert the images to png (directory self define)"
   ]
  },
  {
   "cell_type": "code",
   "execution_count": 3,
   "metadata": {},
   "outputs": [
    {
     "name": "stderr",
     "output_type": "stream",
     "text": [
      "  0%|          | 1/658 [00:00<01:10,  9.38it/s]"
     ]
    },
    {
     "name": "stdout",
     "output_type": "stream",
     "text": [
      "Number of fits file under the directory:  658\n",
      "TXS 1526+173_II.fits\n",
      "TXS 1418+030_II.fits\n",
      "TXS 1525+135_II.fits\n"
     ]
    },
    {
     "name": "stderr",
     "output_type": "stream",
     "text": [
      "  1%|          | 5/658 [00:00<01:01, 10.55it/s]"
     ]
    },
    {
     "name": "stdout",
     "output_type": "stream",
     "text": [
      "SDSS J150959.74+332746.1_I.fits\n",
      "4C 06.32_II.fits\n",
      "4C 31.32_II.fits\n"
     ]
    },
    {
     "name": "stderr",
     "output_type": "stream",
     "text": [
      "\r",
      "  1%|          | 7/658 [00:00<00:58, 11.09it/s]"
     ]
    },
    {
     "name": "stdout",
     "output_type": "stream",
     "text": [
      "3C 321_II.fits\n",
      "4C 31.40_II.fits\n",
      "TXS 1530+161_II.fits\n"
     ]
    },
    {
     "name": "stderr",
     "output_type": "stream",
     "text": [
      "  2%|▏         | 11/658 [00:00<00:56, 11.45it/s]"
     ]
    },
    {
     "name": "stdout",
     "output_type": "stream",
     "text": [
      "3C 249_II.fits\n",
      "TXS 1508+205_II.fits\n",
      "4C 07.36_I.fits\n"
     ]
    },
    {
     "name": "stderr",
     "output_type": "stream",
     "text": [
      "\r",
      "  2%|▏         | 13/658 [00:01<00:56, 11.52it/s]"
     ]
    },
    {
     "name": "stdout",
     "output_type": "stream",
     "text": [
      "4C 61.23_II.fits\n",
      "3C 196_II.fits\n",
      "TXS 1536+144_II.fits\n"
     ]
    },
    {
     "name": "stderr",
     "output_type": "stream",
     "text": [
      "  3%|▎         | 17/658 [00:01<00:55, 11.62it/s]"
     ]
    },
    {
     "name": "stdout",
     "output_type": "stream",
     "text": [
      "SDSS J151845.72+061356.1_I.fits\n",
      "SDSS J141138.22+495304.0_I.fits\n",
      "SDSS J140313.28+061008.2_I.fits\n"
     ]
    },
    {
     "name": "stderr",
     "output_type": "stream",
     "text": [
      "\r",
      "  3%|▎         | 19/658 [00:01<00:54, 11.73it/s]"
     ]
    },
    {
     "name": "stdout",
     "output_type": "stream",
     "text": [
      "4C 44.19_II.fits\n",
      "TXS 1415+008_II.fits\n",
      "SDSS J135302.04+330528.5_I.fits\n"
     ]
    },
    {
     "name": "stderr",
     "output_type": "stream",
     "text": [
      "  3%|▎         | 23/658 [00:01<00:54, 11.75it/s]"
     ]
    },
    {
     "name": "stdout",
     "output_type": "stream",
     "text": [
      "4C 26.44_II.fits\n",
      "SDSS J162806.20+084538.0_I.fits\n",
      "SDSS J120401.47+201356.3_I.fits\n"
     ]
    },
    {
     "name": "stderr",
     "output_type": "stream",
     "text": [
      "\r",
      "  4%|▍         | 25/658 [00:02<00:55, 11.47it/s]"
     ]
    },
    {
     "name": "stdout",
     "output_type": "stream",
     "text": [
      "4C-00.46_II.fits\n",
      "SDSS J104855.28+311945.2_I.fits\n",
      "SDSS J161037.77+532421.0_I.fits\n"
     ]
    },
    {
     "name": "stderr",
     "output_type": "stream",
     "text": [
      "  4%|▍         | 29/658 [00:02<00:54, 11.64it/s]"
     ]
    },
    {
     "name": "stdout",
     "output_type": "stream",
     "text": [
      "SDSS J152122.54+042030.1_I.fits\n",
      "TXS 1514+215_II.fits\n",
      "SDSS J170602.20+201757.8_I.fits\n"
     ]
    },
    {
     "name": "stderr",
     "output_type": "stream",
     "text": [
      "\r",
      "  5%|▍         | 31/658 [00:02<00:53, 11.64it/s]"
     ]
    },
    {
     "name": "stdout",
     "output_type": "stream",
     "text": [
      "TXS 1140+217_II.fits\n",
      "TXS 1446+177_II.fits\n",
      "1438+0022_II.fits\n"
     ]
    },
    {
     "name": "stderr",
     "output_type": "stream",
     "text": [
      "  5%|▌         | 35/658 [00:02<00:52, 11.87it/s]"
     ]
    },
    {
     "name": "stdout",
     "output_type": "stream",
     "text": [
      "TXS 1451+118_II.fits\n",
      "4C 14.55_II.fits\n",
      "4C 17.49_II.fits\n"
     ]
    },
    {
     "name": "stderr",
     "output_type": "stream",
     "text": [
      "\r",
      "  6%|▌         | 37/658 [00:03<00:52, 11.80it/s]"
     ]
    },
    {
     "name": "stdout",
     "output_type": "stream",
     "text": [
      "3C 266_II.fits\n",
      "TXS 1500+128_II.fits\n",
      "3C 276_II.fits\n"
     ]
    },
    {
     "name": "stderr",
     "output_type": "stream",
     "text": [
      "  6%|▌         | 41/658 [00:03<00:52, 11.77it/s]"
     ]
    },
    {
     "name": "stdout",
     "output_type": "stream",
     "text": [
      "SDSS J165448.44+261841.3_I.fits\n",
      "SDSS J152126.99+483943.3_I.fits\n",
      "4C 01.39_II.fits\n"
     ]
    },
    {
     "name": "stderr",
     "output_type": "stream",
     "text": [
      "\r",
      "  7%|▋         | 43/658 [00:03<00:52, 11.79it/s]"
     ]
    },
    {
     "name": "stdout",
     "output_type": "stream",
     "text": [
      "SDSS J130619.24+111339.7_I.fits\n",
      "SDSS J155401.99+150946.9_I.fits\n",
      "3C 240_II.fits\n"
     ]
    },
    {
     "name": "stderr",
     "output_type": "stream",
     "text": [
      "  7%|▋         | 47/658 [00:04<00:51, 11.79it/s]"
     ]
    },
    {
     "name": "stdout",
     "output_type": "stream",
     "text": [
      "3C 250_II.fits\n",
      "4C 16.33_I.fits\n",
      "SDSS J095527.76+034516.8_I.fits\n"
     ]
    },
    {
     "name": "stderr",
     "output_type": "stream",
     "text": [
      "\r",
      "  7%|▋         | 49/658 [00:04<00:51, 11.82it/s]"
     ]
    },
    {
     "name": "stdout",
     "output_type": "stream",
     "text": [
      "4C 24.35_II.fits\n",
      "SDSS J123128.93+491537.0_I.fits\n",
      "TXS 1509+213_II.fits\n"
     ]
    },
    {
     "name": "stderr",
     "output_type": "stream",
     "text": [
      "  8%|▊         | 53/658 [00:04<00:51, 11.77it/s]"
     ]
    },
    {
     "name": "stdout",
     "output_type": "stream",
     "text": [
      "SDSS J100804.14+502642.8_I.fits\n",
      "1435-0268_I.fits\n",
      "SDSS J100451.83+543404.3_I.fits\n"
     ]
    },
    {
     "name": "stderr",
     "output_type": "stream",
     "text": [
      "\r",
      "  8%|▊         | 55/658 [00:04<00:57, 10.44it/s]"
     ]
    },
    {
     "name": "stdout",
     "output_type": "stream",
     "text": [
      "SDSS J102703.83+382013.0_I.fits\n",
      "4C 18.43_II.fits\n"
     ]
    },
    {
     "name": "stderr",
     "output_type": "stream",
     "text": [
      "\r",
      "  9%|▊         | 57/658 [00:04<00:58, 10.30it/s]"
     ]
    },
    {
     "name": "stdout",
     "output_type": "stream",
     "text": [
      "SDSS J135553.63+262217.9_I.fits\n",
      "SDSS J081614.27+425657.6_I.fits\n",
      "SDSS J105702.79+564503.1_I.fits\n"
     ]
    },
    {
     "name": "stderr",
     "output_type": "stream",
     "text": [
      "  9%|▉         | 61/658 [00:05<00:54, 11.05it/s]"
     ]
    },
    {
     "name": "stdout",
     "output_type": "stream",
     "text": [
      "TXS 1408-003_II.fits\n",
      "SDSS J112403.19+475814.9_I.fits\n",
      "SDSS J094614.50+581937.6_I.fits\n"
     ]
    },
    {
     "name": "stderr",
     "output_type": "stream",
     "text": [
      "\r",
      " 10%|▉         | 63/658 [00:05<00:53, 11.18it/s]"
     ]
    },
    {
     "name": "stdout",
     "output_type": "stream",
     "text": [
      "SDSS J140916.74+060139.4_I.fits\n",
      "TXS 1508+108_II.fits\n",
      "SDSS J171243.95+620245.0_I.fits\n"
     ]
    },
    {
     "name": "stderr",
     "output_type": "stream",
     "text": [
      " 10%|█         | 67/658 [00:05<00:51, 11.47it/s]"
     ]
    },
    {
     "name": "stdout",
     "output_type": "stream",
     "text": [
      "SDSS J110535.78+091956.3_I.fits\n",
      "4C 54.30_II.fits\n",
      "TXS 1525+290_I.fits\n"
     ]
    },
    {
     "name": "stderr",
     "output_type": "stream",
     "text": [
      "\r",
      " 10%|█         | 69/658 [00:06<00:54, 10.88it/s]"
     ]
    },
    {
     "name": "stdout",
     "output_type": "stream",
     "text": [
      "B2 1502+28_I.fits\n",
      "TXS 1501+197_II.fits\n",
      "TXS 1509+285_II.fits\n"
     ]
    },
    {
     "name": "stderr",
     "output_type": "stream",
     "text": [
      " 11%|█         | 73/658 [00:06<00:51, 11.35it/s]"
     ]
    },
    {
     "name": "stdout",
     "output_type": "stream",
     "text": [
      "J153233.19_II.fits\n",
      "4C 17.50_II.fits\n",
      "TXS 1437+009_II.fits\n"
     ]
    },
    {
     "name": "stderr",
     "output_type": "stream",
     "text": [
      "\r",
      " 11%|█▏        | 75/658 [00:06<00:50, 11.52it/s]"
     ]
    },
    {
     "name": "stdout",
     "output_type": "stream",
     "text": [
      "TXS 1425+005_II.fits\n",
      "4C 01.42_II.fits\n"
     ]
    },
    {
     "name": "stderr",
     "output_type": "stream",
     "text": [
      " 12%|█▏        | 79/658 [00:06<00:46, 12.44it/s]"
     ]
    },
    {
     "name": "stdout",
     "output_type": "stream",
     "text": [
      "4C 23.42_I.fits\n",
      "J142746+00_II.fits\n",
      "1415+0060_II.fits\n",
      "SDSS J004530.46-004746.9_I.fits\n"
     ]
    },
    {
     "name": "stderr",
     "output_type": "stream",
     "text": [
      " 13%|█▎        | 83/658 [00:07<00:41, 13.79it/s]"
     ]
    },
    {
     "name": "stdout",
     "output_type": "stream",
     "text": [
      "TXS 1239+577_II.fits\n",
      "3C 251_II.fits\n",
      "3C 329_II.fits\n",
      "SDSS J101114.38+191425.7_I.fits\n"
     ]
    },
    {
     "name": "stderr",
     "output_type": "stream",
     "text": [
      " 13%|█▎        | 87/658 [00:07<00:36, 15.49it/s]"
     ]
    },
    {
     "name": "stdout",
     "output_type": "stream",
     "text": [
      "3C 241_II.fits\n",
      "SDSS J153138.76+064045.5_I.fits\n",
      "4C 05.54_II.fits\n",
      "SDSS J115729.60+292308.1_I.fits\n"
     ]
    },
    {
     "name": "stderr",
     "output_type": "stream",
     "text": [
      "\r",
      " 14%|█▎        | 89/658 [00:07<00:38, 14.80it/s]"
     ]
    },
    {
     "name": "stdout",
     "output_type": "stream",
     "text": [
      "TXS 1507+298_II.fits\n",
      "3C 338_I.fits\n",
      "3C 223_II.fits\n"
     ]
    },
    {
     "name": "stderr",
     "output_type": "stream",
     "text": [
      " 14%|█▍        | 93/658 [00:07<00:39, 14.44it/s]"
     ]
    },
    {
     "name": "stdout",
     "output_type": "stream",
     "text": [
      "TXS 1451+292_II.fits\n",
      "4C 43.35_II.fits\n",
      "SDSS J081932.66+200748.8_I.fits\n"
     ]
    },
    {
     "name": "stderr",
     "output_type": "stream",
     "text": [
      " 15%|█▍        | 97/658 [00:08<00:41, 13.62it/s]"
     ]
    },
    {
     "name": "stdout",
     "output_type": "stream",
     "text": [
      "3C 306_II.fits\n",
      "4C 19.44_II.fits\n",
      "3C 310_I.fits\n",
      "4C 45.17_II.fits\n"
     ]
    },
    {
     "name": "stderr",
     "output_type": "stream",
     "text": [
      " 15%|█▌        | 101/658 [00:08<00:36, 15.46it/s]"
     ]
    },
    {
     "name": "stdout",
     "output_type": "stream",
     "text": [
      "GB6 1442+195_I.fits\n",
      "1432+0262_II.fits\n",
      "SDSS J075506.67+262115.9_I.fits\n",
      "TXS 1505+247_II.fits\n"
     ]
    },
    {
     "name": "stderr",
     "output_type": "stream",
     "text": [
      " 16%|█▌        | 105/658 [00:08<00:33, 16.35it/s]"
     ]
    },
    {
     "name": "stdout",
     "output_type": "stream",
     "text": [
      "4C 20.33_II.fits\n",
      "4C 32.25A_II.fits\n",
      "4C 33.30_II.fits\n",
      "SDSS J152522.33+314037.1_I.fits\n"
     ]
    },
    {
     "name": "stderr",
     "output_type": "stream",
     "text": [
      " 17%|█▋        | 109/658 [00:08<00:32, 17.07it/s]"
     ]
    },
    {
     "name": "stdout",
     "output_type": "stream",
     "text": [
      "TXS 1427+009_II.fits\n",
      "3C 352_II.fits\n",
      "3C 342_II.fits\n",
      "TXS 1520+221_II.fits\n"
     ]
    },
    {
     "name": "stderr",
     "output_type": "stream",
     "text": [
      " 17%|█▋        | 113/658 [00:08<00:31, 17.18it/s]"
     ]
    },
    {
     "name": "stdout",
     "output_type": "stream",
     "text": [
      "4C 29.46_II.fits\n",
      "4C 41.19_II.fits\n",
      "SDSS J155222.36+223311.9_I.fits\n",
      "SDSS J143928.78+110613.8_I.fits\n"
     ]
    },
    {
     "name": "stderr",
     "output_type": "stream",
     "text": [
      " 18%|█▊        | 117/658 [00:09<00:30, 17.60it/s]"
     ]
    },
    {
     "name": "stdout",
     "output_type": "stream",
     "text": [
      "SDSS J102603.83+390524.0_I.fits\n",
      "1437-0025_I.fits\n",
      "SDSS J150111.50+093548.0_I.fits\n",
      "WB 1445+1459_I.fits\n"
     ]
    },
    {
     "name": "stderr",
     "output_type": "stream",
     "text": [
      " 18%|█▊        | 121/658 [00:09<00:30, 17.52it/s]"
     ]
    },
    {
     "name": "stdout",
     "output_type": "stream",
     "text": [
      "TXS 1115+536_II.fits\n",
      "4C 18.39_II.fits\n",
      "SDSS J121519.19+472142.4_I.fits\n",
      "TXS 1524+149_II.fits\n"
     ]
    },
    {
     "name": "stderr",
     "output_type": "stream",
     "text": [
      "\r",
      " 19%|█▊        | 123/658 [00:09<00:31, 17.23it/s]"
     ]
    },
    {
     "name": "stdout",
     "output_type": "stream",
     "text": [
      "TXS 1410+027_II.fits\n",
      "SDSS J082733.62+160053.7_I.fits\n",
      "3C 288.1_II.fits\n"
     ]
    },
    {
     "name": "stderr",
     "output_type": "stream",
     "text": [
      " 19%|█▉        | 127/658 [00:09<00:36, 14.48it/s]"
     ]
    },
    {
     "name": "stdout",
     "output_type": "stream",
     "text": [
      "TXS 1541+219_II.fits\n",
      "TXS 1408+016_II.fits\n",
      "TXS 1506+245_II.fits\n",
      "4C 27.31_II.fits\n"
     ]
    },
    {
     "name": "stderr",
     "output_type": "stream",
     "text": [
      " 20%|█▉        | 131/658 [00:10<00:32, 16.10it/s]"
     ]
    },
    {
     "name": "stdout",
     "output_type": "stream",
     "text": [
      "3C 248_II.fits\n",
      "3C 320_II.fits\n",
      "TXS 1130+504_II.fits\n",
      "SDSS J114210.72+552729.6_I.fits\n"
     ]
    },
    {
     "name": "stderr",
     "output_type": "stream",
     "text": [
      " 21%|██        | 135/658 [00:10<00:31, 16.83it/s]"
     ]
    },
    {
     "name": "stdout",
     "output_type": "stream",
     "text": [
      "4C 48.29A_II.fits\n",
      "3C 268.4_II.fits\n",
      "SDSS J093058.74+034827.7_I.fits\n",
      "3C 326.1_II.fits\n"
     ]
    },
    {
     "name": "stderr",
     "output_type": "stream",
     "text": [
      " 21%|██        | 139/658 [00:10<00:30, 17.22it/s]"
     ]
    },
    {
     "name": "stdout",
     "output_type": "stream",
     "text": [
      "SDSS J131613.54+093236.7_I.fits\n",
      "1408+0050_II.fits\n",
      "TXS 1527+234_II.fits\n",
      "3C 215_II.fits\n"
     ]
    },
    {
     "name": "stderr",
     "output_type": "stream",
     "text": [
      " 22%|██▏       | 143/658 [00:10<00:29, 17.38it/s]"
     ]
    },
    {
     "name": "stdout",
     "output_type": "stream",
     "text": [
      "N344Z014_I.fits\n",
      "3C 205_II.fits\n",
      "1433-0239_I.fits\n",
      "SDSS J131053.44-022841.5_I.fits\n"
     ]
    },
    {
     "name": "stderr",
     "output_type": "stream",
     "text": [
      " 22%|██▏       | 147/658 [00:11<00:33, 15.35it/s]"
     ]
    },
    {
     "name": "stdout",
     "output_type": "stream",
     "text": [
      "TXS 1459+279_II.fits\n",
      "SDSS J165304.98+400702.5_I.fits\n",
      "4C 14.54_II.fits\n"
     ]
    },
    {
     "name": "stderr",
     "output_type": "stream",
     "text": [
      " 23%|██▎       | 151/658 [00:11<00:33, 15.17it/s]"
     ]
    },
    {
     "name": "stdout",
     "output_type": "stream",
     "text": [
      "MR C 1408-030_II.fits\n",
      "TXS 1501+126_II.fits\n",
      "4C 02.34_II.fits\n",
      "SDSS J080326.62+303725.0_I.fits\n"
     ]
    },
    {
     "name": "stderr",
     "output_type": "stream",
     "text": [
      "\r",
      " 23%|██▎       | 153/658 [00:11<00:46, 10.93it/s]"
     ]
    },
    {
     "name": "stdout",
     "output_type": "stream",
     "text": [
      "TXS 1406-007_II.fits\n",
      "3C 277_II.fits\n",
      "3C 267_II.fits\n"
     ]
    },
    {
     "name": "stderr",
     "output_type": "stream",
     "text": [
      " 24%|██▍       | 157/658 [00:11<00:37, 13.52it/s]"
     ]
    },
    {
     "name": "stdout",
     "output_type": "stream",
     "text": [
      "4C 17.48_II.fits\n",
      "SDSS J104049.99+561508.1_I.fits\n",
      "TXS 1515+301_II.fits\n",
      "SDSS J170011.22+323514.7_I.fits\n"
     ]
    },
    {
     "name": "stderr",
     "output_type": "stream",
     "text": [
      " 24%|██▍       | 161/658 [00:12<00:32, 15.41it/s]"
     ]
    },
    {
     "name": "stdout",
     "output_type": "stream",
     "text": [
      "SDSS J120021.93-020152.7_I.fits\n",
      "TXS 1515+269_II.fits\n",
      "SDSS J082603.81+471910.3_I.fits\n",
      "NGC 2484_I.fits\n"
     ]
    },
    {
     "name": "stderr",
     "output_type": "stream",
     "text": [
      " 25%|██▌       | 165/658 [00:12<00:30, 16.39it/s]"
     ]
    },
    {
     "name": "stdout",
     "output_type": "stream",
     "text": [
      "3C 274.1_II.fits\n",
      "SDSS J082926.46+224436.3_I.fits\n",
      "3C 349_II.fits\n",
      "4C 32.34_II.fits\n"
     ]
    },
    {
     "name": "stderr",
     "output_type": "stream",
     "text": [
      " 26%|██▌       | 169/658 [00:12<00:30, 16.16it/s]"
     ]
    },
    {
     "name": "stdout",
     "output_type": "stream",
     "text": [
      "SDSS J112457.40+171744.7_I.fits\n",
      "4C 32.24_II.fits\n",
      "TXS 1427+012_II.fits\n",
      "SDSS J075309.91+355557.1_I.fits\n"
     ]
    },
    {
     "name": "stderr",
     "output_type": "stream",
     "text": [
      " 26%|██▋       | 173/658 [00:12<00:32, 14.75it/s]"
     ]
    },
    {
     "name": "stdout",
     "output_type": "stream",
     "text": [
      "4C 16.27_II.fits\n",
      "TXS 1430-002_II.fits\n",
      "SDSS J115508.97+232623.4_I.fits\n"
     ]
    },
    {
     "name": "stderr",
     "output_type": "stream",
     "text": [
      "\r",
      " 27%|██▋       | 175/658 [00:13<00:35, 13.47it/s]"
     ]
    },
    {
     "name": "stdout",
     "output_type": "stream",
     "text": [
      "SDSS J113012.79+235822.1_I.fits\n",
      "SDSS J142521.22+630921.3_I.fits\n",
      "SDSS J115936.05+233947.5_I.fits\n"
     ]
    },
    {
     "name": "stderr",
     "output_type": "stream",
     "text": [
      " 27%|██▋       | 179/658 [00:13<00:36, 13.05it/s]"
     ]
    },
    {
     "name": "stdout",
     "output_type": "stream",
     "text": [
      "SDSS J115109.39+435918.6_I.fits\n",
      "SDSS J092049.05+403952.8_I.fits\n",
      "SDSS J111911.13+081539.8_I.fits\n"
     ]
    },
    {
     "name": "stderr",
     "output_type": "stream",
     "text": [
      "\r",
      " 28%|██▊       | 181/658 [00:13<00:40, 11.87it/s]"
     ]
    },
    {
     "name": "stdout",
     "output_type": "stream",
     "text": [
      "SDSS J143147.54+605109.4_I.fits\n",
      "3C 243_II.fits\n",
      "3C 253_II.fits\n"
     ]
    },
    {
     "name": "stderr",
     "output_type": "stream",
     "text": [
      " 28%|██▊       | 185/658 [00:13<00:41, 11.53it/s]"
     ]
    },
    {
     "name": "stdout",
     "output_type": "stream",
     "text": [
      "M84_I.fits\n",
      "TXS 1515+176_II.fits\n",
      "TXS 1409-030_II.fits\n",
      "SDSS J085719.46+241142.6_I.fits\n"
     ]
    },
    {
     "name": "stderr",
     "output_type": "stream",
     "text": [
      " 29%|██▊       | 189/658 [00:14<00:33, 13.86it/s]"
     ]
    },
    {
     "name": "stdout",
     "output_type": "stream",
     "text": [
      "TXS 1435+031_II.fits\n",
      "TXS 1534+269_I.fits\n",
      "4C 04.40_II.fits\n",
      "SDSS J132017.54+043037.4_I.fits\n"
     ]
    },
    {
     "name": "stderr",
     "output_type": "stream",
     "text": [
      " 29%|██▉       | 193/658 [00:14<00:31, 14.59it/s]"
     ]
    },
    {
     "name": "stdout",
     "output_type": "stream",
     "text": [
      "1503+1251_II.fits\n",
      "SDSS J153932.09+013710.5_I.fits\n",
      "TXS 1452+144_II.fits\n",
      "TXS 1457+241_II.fits\n"
     ]
    },
    {
     "name": "stderr",
     "output_type": "stream",
     "text": [
      " 30%|██▉       | 197/658 [00:14<00:29, 15.67it/s]"
     ]
    },
    {
     "name": "stdout",
     "output_type": "stream",
     "text": [
      "SDSS J084140.57+254827.9_I.fits\n",
      "WB 1504+1618_II.fits\n",
      "TXS 1432-020_II.fits\n",
      "4C 39.29_II.fits\n"
     ]
    },
    {
     "name": "stderr",
     "output_type": "stream",
     "text": [
      " 31%|███       | 201/658 [00:14<00:27, 16.52it/s]"
     ]
    },
    {
     "name": "stdout",
     "output_type": "stream",
     "text": [
      "SDSS J173223.73+552452.8_I.fits\n",
      "SDSS J090543.54+401704.8_I.fits\n",
      "SDSS J122532.09+192615.2_I.fits\n",
      "Cul 1531+104_I.fits\n"
     ]
    },
    {
     "name": "stderr",
     "output_type": "stream",
     "text": [
      " 31%|███       | 205/658 [00:15<00:26, 16.99it/s]"
     ]
    },
    {
     "name": "stdout",
     "output_type": "stream",
     "text": [
      "3C 322_II.fits\n",
      "TXS 1452+204_II.fits\n",
      "LED A 184576_I.fits\n",
      "3C 332_II.fits\n"
     ]
    },
    {
     "name": "stderr",
     "output_type": "stream",
     "text": [
      " 32%|███▏      | 209/658 [00:15<00:28, 15.88it/s]"
     ]
    },
    {
     "name": "stdout",
     "output_type": "stream",
     "text": [
      "SDSS J081849.74+040631.5_I.fits\n",
      "3C 238_II.fits\n",
      "3C 340_II.fits\n",
      "SDSS J003930.52-103218.6_I.fits\n"
     ]
    },
    {
     "name": "stderr",
     "output_type": "stream",
     "text": [
      " 32%|███▏      | 213/658 [00:15<00:27, 16.05it/s]"
     ]
    },
    {
     "name": "stdout",
     "output_type": "stream",
     "text": [
      "4C 10.41_II.fits\n",
      "3C 228_II.fits\n",
      "3C 288_I.fits\n",
      "3C 350_II.fits\n"
     ]
    },
    {
     "name": "stderr",
     "output_type": "stream",
     "text": [
      " 33%|███▎      | 217/658 [00:15<00:26, 16.71it/s]"
     ]
    },
    {
     "name": "stdout",
     "output_type": "stream",
     "text": [
      "SDSS J130248.70+475510.6_I.fits\n",
      "1416+0219_I.fits\n",
      "SDSS J102314.24+483122.0_I.fits\n",
      "3C 281_II.fits\n"
     ]
    },
    {
     "name": "stderr",
     "output_type": "stream",
     "text": [
      " 34%|███▎      | 221/658 [00:16<00:25, 17.08it/s]"
     ]
    },
    {
     "name": "stdout",
     "output_type": "stream",
     "text": [
      "4C 52.18_II.fits\n",
      "3C 265_II.fits\n",
      "4C 25.29_II.fits\n",
      "3C 275_II.fits\n"
     ]
    },
    {
     "name": "stderr",
     "output_type": "stream",
     "text": [
      " 34%|███▍      | 225/658 [00:16<00:25, 16.79it/s]"
     ]
    },
    {
     "name": "stdout",
     "output_type": "stream",
     "text": [
      "SDSS J013412.78-010729.4_I.fits\n",
      "TXS 1440+151_II.fits\n",
      "SDSS J105344.12+492955.9_I.fits\n",
      "SDSS J160816.32+373743.1_I.fits\n"
     ]
    },
    {
     "name": "stderr",
     "output_type": "stream",
     "text": [
      " 35%|███▍      | 229/658 [00:16<00:25, 17.06it/s]"
     ]
    },
    {
     "name": "stdout",
     "output_type": "stream",
     "text": [
      "TXS 1552+151_II.fits\n",
      "4C-00.37_II.fits\n",
      "3C 300.1_II.fits\n",
      "SDSS J163043.14+163910.8_I.fits\n"
     ]
    },
    {
     "name": "stderr",
     "output_type": "stream",
     "text": [
      " 35%|███▌      | 233/658 [00:16<00:24, 17.18it/s]"
     ]
    },
    {
     "name": "stdout",
     "output_type": "stream",
     "text": [
      "TXS 1412+031_II.fits\n",
      "4C 52.27_II.fits\n",
      "SDSS J114345.53+192333.4_I.fits\n",
      "TXS 1456+143_II.fits\n"
     ]
    },
    {
     "name": "stderr",
     "output_type": "stream",
     "text": [
      " 36%|███▌      | 237/658 [00:17<00:24, 17.32it/s]"
     ]
    },
    {
     "name": "stdout",
     "output_type": "stream",
     "text": [
      "GB6 1544+1152_II.fits\n",
      "4C 11.47_II.fits\n",
      "TXS 1416-022_II.fits\n",
      "4C 23.24_II.fits\n"
     ]
    },
    {
     "name": "stderr",
     "output_type": "stream",
     "text": [
      " 37%|███▋      | 241/658 [00:17<00:24, 17.26it/s]"
     ]
    },
    {
     "name": "stdout",
     "output_type": "stream",
     "text": [
      "TXS 1511+103_II.fits\n",
      "4C 20.28_II.fits\n",
      "1423+0220_II.fits\n",
      "3C 207_II.fits\n"
     ]
    },
    {
     "name": "stderr",
     "output_type": "stream",
     "text": [
      " 37%|███▋      | 245/658 [00:17<00:23, 17.40it/s]"
     ]
    },
    {
     "name": "stdout",
     "output_type": "stream",
     "text": [
      "3C 217_II.fits\n",
      "SDSS J082025.14+160123.2_I.fits\n",
      "3C 225A_II.fits\n",
      "4C 17.52_I.fits\n"
     ]
    },
    {
     "name": "stderr",
     "output_type": "stream",
     "text": [
      " 38%|███▊      | 249/658 [00:17<00:23, 17.32it/s]"
     ]
    },
    {
     "name": "stdout",
     "output_type": "stream",
     "text": [
      "3C 333_II.fits\n",
      "4C 03.21_II.fits\n",
      "SDSS J150957.37+332715.0_I.fits\n",
      "3C 194_II.fits\n"
     ]
    },
    {
     "name": "stderr",
     "output_type": "stream",
     "text": [
      " 38%|███▊      | 253/658 [00:17<00:23, 17.28it/s]"
     ]
    },
    {
     "name": "stdout",
     "output_type": "stream",
     "text": [
      "TXS 1431+008_II.fits\n",
      "SDSS J141243.83+495206.5_I.fits\n",
      "3C 223.1_II.fits\n"
     ]
    },
    {
     "name": "stderr",
     "output_type": "stream",
     "text": [
      " 39%|███▉      | 257/658 [00:18<00:25, 15.85it/s]"
     ]
    },
    {
     "name": "stdout",
     "output_type": "stream",
     "text": [
      "SDSS J162918.66+133824.0_I.fits\n",
      "SDSS J170115.59+240608.4_I.fits\n",
      "SDSS J103036.15+355459.8_I.fits\n",
      "SDSS J142832.60+424021.0_I.fits\n"
     ]
    },
    {
     "name": "stderr",
     "output_type": "stream",
     "text": [
      " 40%|███▉      | 261/658 [00:18<00:24, 16.47it/s]"
     ]
    },
    {
     "name": "stdout",
     "output_type": "stream",
     "text": [
      "3C 280_II.fits\n",
      "3C 351_II.fits\n",
      "TXS 1434+019_II.fits\n",
      "4C 10.40_II.fits\n"
     ]
    },
    {
     "name": "stderr",
     "output_type": "stream",
     "text": [
      " 40%|████      | 265/658 [00:18<00:23, 16.77it/s]"
     ]
    },
    {
     "name": "stdout",
     "output_type": "stream",
     "text": [
      "3C 229_II.fits\n",
      "4C 31.30_II.fits\n",
      "3C 341_II.fits\n",
      "3C 239_II.fits\n"
     ]
    },
    {
     "name": "stderr",
     "output_type": "stream",
     "text": [
      " 41%|████      | 269/658 [00:18<00:22, 17.04it/s]"
     ]
    },
    {
     "name": "stdout",
     "output_type": "stream",
     "text": [
      "TXS 1452+277_II.fits\n",
      "TXS 1459+133_II.fits\n",
      "SDSS J081523.21+115715.1_I.fits\n",
      "4C 09.41_II.fits\n"
     ]
    },
    {
     "name": "stderr",
     "output_type": "stream",
     "text": [
      " 41%|████▏     | 273/658 [00:19<00:22, 17.16it/s]"
     ]
    },
    {
     "name": "stdout",
     "output_type": "stream",
     "text": [
      "TXS 1541+143_II.fits\n",
      "SDSS J111020.07+204657.5_I.fits\n",
      "SDSS J134745.19+503203.5_I.fits\n",
      "SDSS J094333.00+334158.3_I.fits\n"
     ]
    },
    {
     "name": "stderr",
     "output_type": "stream",
     "text": [
      " 42%|████▏     | 277/658 [00:19<00:22, 17.24it/s]"
     ]
    },
    {
     "name": "stdout",
     "output_type": "stream",
     "text": [
      "4C 25.38_II.fits\n",
      "4C 14.57_II.fits\n",
      "4C 07.32_I.fits\n",
      "SDSS J142206.79+361434.8_I.fits\n"
     ]
    },
    {
     "name": "stderr",
     "output_type": "stream",
     "text": [
      " 43%|████▎     | 281/658 [00:19<00:21, 17.16it/s]"
     ]
    },
    {
     "name": "stdout",
     "output_type": "stream",
     "text": [
      "SDSS J165500.19+390847.9_I.fits\n",
      "4C 11.34_II.fits\n",
      "TXS 1529+110_II.fits\n",
      "SDSS J105544.98+452401.4_I.fits\n"
     ]
    },
    {
     "name": "stderr",
     "output_type": "stream",
     "text": [
      "\r",
      " 43%|████▎     | 283/658 [00:19<00:24, 15.35it/s]"
     ]
    },
    {
     "name": "stdout",
     "output_type": "stream",
     "text": [
      "SDSS J155311.93+273320.6_I.fits\n",
      "SDSS J083138.83+223422.9_I.fits\n",
      "SDSS J101545.46+311500.2_I.fits\n"
     ]
    },
    {
     "name": "stderr",
     "output_type": "stream",
     "text": [
      " 44%|████▎     | 287/658 [00:20<00:22, 16.20it/s]"
     ]
    },
    {
     "name": "stdout",
     "output_type": "stream",
     "text": [
      "4C 58.23_I.fits\n",
      "3C 289_II.fits\n",
      "3C 299_II.fits\n",
      "TXS 1445+167_II.fits\n"
     ]
    },
    {
     "name": "stderr",
     "output_type": "stream",
     "text": [
      " 44%|████▍     | 291/658 [00:20<00:22, 16.50it/s]"
     ]
    },
    {
     "name": "stdout",
     "output_type": "stream",
     "text": [
      "3C 230_II.fits\n",
      "4C 13.55_II.fits\n",
      "4C 21.26_II.fits\n",
      "4C 00.34_II.fits\n"
     ]
    },
    {
     "name": "stderr",
     "output_type": "stream",
     "text": [
      " 45%|████▍     | 295/658 [00:20<00:21, 16.87it/s]"
     ]
    },
    {
     "name": "stdout",
     "output_type": "stream",
     "text": [
      "J143244-00_II.fits\n",
      "4C 15.48_II.fits\n",
      "3C 197.1_II.fits\n",
      "SDSS J152045.04+483922.9_I.fits\n"
     ]
    },
    {
     "name": "stderr",
     "output_type": "stream",
     "text": [
      " 45%|████▌     | 299/658 [00:20<00:21, 16.95it/s]"
     ]
    },
    {
     "name": "stdout",
     "output_type": "stream",
     "text": [
      "3C 252_II.fits\n",
      "3C 242_II.fits\n",
      "SDSS J073719.18+292932.0_I.fits\n",
      "TXS 1504+206_II.fits\n"
     ]
    },
    {
     "name": "stderr",
     "output_type": "stream",
     "text": [
      " 46%|████▌     | 303/658 [00:20<00:20, 16.96it/s]"
     ]
    },
    {
     "name": "stdout",
     "output_type": "stream",
     "text": [
      "SDSS J223143.19-082431.7_I.fits\n",
      "SDSS J103258.88+564453.2_I.fits\n",
      "TXS 1435+020_II.fits\n",
      "TXS 1415+013_II.fits\n"
     ]
    },
    {
     "name": "stderr",
     "output_type": "stream",
     "text": [
      " 47%|████▋     | 307/658 [00:21<00:20, 17.00it/s]"
     ]
    },
    {
     "name": "stdout",
     "output_type": "stream",
     "text": [
      "4C 41.23_I.fits\n",
      "TXS 1540+241_II.fits\n",
      "4C 43.19_II.fits\n",
      "SDSS J101937.94+001955.7_I.fits\n"
     ]
    },
    {
     "name": "stderr",
     "output_type": "stream",
     "text": [
      " 47%|████▋     | 311/658 [00:21<00:21, 16.35it/s]"
     ]
    },
    {
     "name": "stdout",
     "output_type": "stream",
     "text": [
      "1437-0069_II.fits\n",
      "3C 275.1_II.fits\n",
      "NGC 5532_I.fits\n",
      "B2 1530+28_I.fits\n"
     ]
    },
    {
     "name": "stderr",
     "output_type": "stream",
     "text": [
      " 48%|████▊     | 315/658 [00:21<00:20, 16.77it/s]"
     ]
    },
    {
     "name": "stdout",
     "output_type": "stream",
     "text": [
      "SDSS J122640.83+430509.3_I.fits\n",
      "4C 28.38_II.fits\n",
      "4C 28.39_I.fits\n",
      "4C 01.32_II.fits\n"
     ]
    },
    {
     "name": "stderr",
     "output_type": "stream",
     "text": [
      " 48%|████▊     | 319/658 [00:21<00:20, 16.93it/s]"
     ]
    },
    {
     "name": "stdout",
     "output_type": "stream",
     "text": [
      "SDSS J150450.51+044054.8_I.fits\n",
      "GB6 1441+2614_II.fits\n",
      "TXS 1458+178_II.fits\n",
      "SDSS J084159.65+500551.7_I.fits\n"
     ]
    },
    {
     "name": "stderr",
     "output_type": "stream",
     "text": [
      "\r",
      " 49%|████▉     | 321/658 [00:22<00:19, 17.06it/s]"
     ]
    },
    {
     "name": "stdout",
     "output_type": "stream",
     "text": [
      "TXS 1415+016_II.fits\n",
      "4C 12.56_II.fits\n"
     ]
    },
    {
     "name": "stderr",
     "output_type": "stream",
     "text": [
      " 49%|████▉     | 325/658 [00:22<00:24, 13.85it/s]"
     ]
    },
    {
     "name": "stdout",
     "output_type": "stream",
     "text": [
      "SDSS J115323.89+305904.8_I.fits\n",
      "TXS 1454+271_II.fits\n",
      "4C-00.48_II.fits\n",
      "TXS 1550+211_II.fits\n"
     ]
    },
    {
     "name": "stderr",
     "output_type": "stream",
     "text": [
      " 50%|█████     | 329/658 [00:22<00:21, 15.19it/s]"
     ]
    },
    {
     "name": "stdout",
     "output_type": "stream",
     "text": [
      "TXS 1506+171_II.fits\n",
      "SDSS J025227.52-075605.4_I.fits\n",
      "SDSS J135511.34+242415.6_I.fits\n",
      "SDSS J112055.83+173854.0_I.fits\n"
     ]
    },
    {
     "name": "stderr",
     "output_type": "stream",
     "text": [
      " 51%|█████     | 333/658 [00:22<00:20, 16.13it/s]"
     ]
    },
    {
     "name": "stdout",
     "output_type": "stream",
     "text": [
      "4C -03.51_II.fits\n",
      "SDSS J104921.13-004005.0_I.fits\n",
      "3C 270_I.fits\n",
      "TXS 1525+210_II.fits\n"
     ]
    },
    {
     "name": "stderr",
     "output_type": "stream",
     "text": [
      " 51%|█████     | 337/658 [00:23<00:19, 16.65it/s]"
     ]
    },
    {
     "name": "stdout",
     "output_type": "stream",
     "text": [
      "SDSS J121534.18+135635.0_I.fits\n",
      "SDSS J151744.96+310015.8_I.fits\n",
      "SDSS J104907.26+551314.9_I.fits\n",
      "TXS 1519+108_II.fits\n"
     ]
    },
    {
     "name": "stderr",
     "output_type": "stream",
     "text": [
      " 52%|█████▏    | 341/658 [00:23<00:19, 15.96it/s]"
     ]
    },
    {
     "name": "stdout",
     "output_type": "stream",
     "text": [
      "SDSS J125953.32+575149.7_I.fits\n",
      "3C 300_II.fits\n",
      "1430-0192_II.fits\n",
      "TXS 1455+251_II.fits\n"
     ]
    },
    {
     "name": "stderr",
     "output_type": "stream",
     "text": [
      " 52%|█████▏    | 345/658 [00:23<00:18, 16.51it/s]"
     ]
    },
    {
     "name": "stdout",
     "output_type": "stream",
     "text": [
      "TXS 1551+221_II.fits\n",
      "SDSS J105348.93+402345.9_I.fits\n",
      "SDSS J121543.82+170917.6_I.fits\n",
      "3C 346_I.fits\n"
     ]
    },
    {
     "name": "stderr",
     "output_type": "stream",
     "text": [
      " 53%|█████▎    | 349/658 [00:23<00:18, 16.75it/s]"
     ]
    },
    {
     "name": "stdout",
     "output_type": "stream",
     "text": [
      "TXS 1416-000_II.fits\n",
      "GB6 B1505+113_II.fits\n",
      "SDSS J122622.50+640622.0_I.fits\n",
      "SDSS J142623.76+551804.9_I.fits\n"
     ]
    },
    {
     "name": "stderr",
     "output_type": "stream",
     "text": [
      " 54%|█████▎    | 353/658 [00:24<00:17, 17.05it/s]"
     ]
    },
    {
     "name": "stdout",
     "output_type": "stream",
     "text": [
      "4C 59.11_II.fits\n",
      "3C 247_II.fits\n",
      "TXS 1543+180_II.fits\n",
      "TXS 1440+163_II.fits\n"
     ]
    },
    {
     "name": "stderr",
     "output_type": "stream",
     "text": [
      " 54%|█████▍    | 357/658 [00:24<00:17, 17.08it/s]"
     ]
    },
    {
     "name": "stdout",
     "output_type": "stream",
     "text": [
      "4C 37.21_II.fits\n",
      "TXS 1443+125_II.fits\n",
      "4C 16.41_II.fits\n",
      "TXS 1410+028_II.fits\n"
     ]
    },
    {
     "name": "stderr",
     "output_type": "stream",
     "text": [
      " 55%|█████▍    | 361/658 [00:24<00:17, 17.09it/s]"
     ]
    },
    {
     "name": "stdout",
     "output_type": "stream",
     "text": [
      "BWE 1522+1303_II.fits\n",
      "4C 18.44_II.fits\n",
      "TXS 1423+018_II.fits\n",
      "TXS 1408+009_II.fits\n"
     ]
    },
    {
     "name": "stderr",
     "output_type": "stream",
     "text": [
      " 55%|█████▌    | 365/658 [00:24<00:17, 17.03it/s]"
     ]
    },
    {
     "name": "stdout",
     "output_type": "stream",
     "text": [
      "TXS 1549+262_II.fits\n",
      "4C 55.21_II.fits\n",
      "SDSS J114212.11+101159.0_I.fits\n",
      "SDSS J103827.01+414852.9_I.fits\n"
     ]
    },
    {
     "name": "stderr",
     "output_type": "stream",
     "text": [
      " 56%|█████▌    | 369/658 [00:25<00:16, 17.01it/s]"
     ]
    },
    {
     "name": "stdout",
     "output_type": "stream",
     "text": [
      "TXS 1541+230_II.fits\n",
      "4C 09.44_II.fits\n",
      "SDSS J105847.67+164526.0_I.fits\n",
      "GB6 1442+117_II.fits\n"
     ]
    },
    {
     "name": "stderr",
     "output_type": "stream",
     "text": [
      " 57%|█████▋    | 373/658 [00:25<00:16, 16.89it/s]"
     ]
    },
    {
     "name": "stdout",
     "output_type": "stream",
     "text": [
      "TXS 1500+259_II.fits\n",
      "SDSS J165425.53+414121.2_I.fits\n",
      "SDSS J124207.38+502146.6_I.fits\n",
      "SDSS J145215.46+502225.1_I.fits\n"
     ]
    },
    {
     "name": "stderr",
     "output_type": "stream",
     "text": [
      " 57%|█████▋    | 377/658 [00:25<00:16, 17.04it/s]"
     ]
    },
    {
     "name": "stdout",
     "output_type": "stream",
     "text": [
      "3C 319_II.fits\n",
      "3C 261_II.fits\n",
      "TXS 1544+221_II.fits\n",
      "TXS 1546+268_II.fits\n"
     ]
    },
    {
     "name": "stderr",
     "output_type": "stream",
     "text": [
      " 58%|█████▊    | 381/658 [00:25<00:16, 17.00it/s]"
     ]
    },
    {
     "name": "stdout",
     "output_type": "stream",
     "text": [
      "4C 30.23_II.fits\n",
      "4C 29.47_I.fits\n",
      "BWE 1524+1302_II.fits\n",
      "SDSS J131531.07+525437.3_I.fits\n"
     ]
    },
    {
     "name": "stderr",
     "output_type": "stream",
     "text": [
      " 59%|█████▊    | 385/658 [00:25<00:16, 16.99it/s]"
     ]
    },
    {
     "name": "stdout",
     "output_type": "stream",
     "text": [
      "4C -00.54_II.fits\n",
      "TXS 1454+268_II.fits\n",
      "SDSS J141652.94+104826.7_I.fits\n",
      "1434+0158_I.fits\n"
     ]
    },
    {
     "name": "stderr",
     "output_type": "stream",
     "text": [
      " 59%|█████▉    | 389/658 [00:26<00:15, 16.95it/s]"
     ]
    },
    {
     "name": "stdout",
     "output_type": "stream",
     "text": [
      "4C -02.61_II.fits\n",
      "SDSS J164845.08+254119.5_I.fits\n",
      "3C 277.3_II.fits\n",
      "1437+0175_II.fits\n"
     ]
    },
    {
     "name": "stderr",
     "output_type": "stream",
     "text": [
      " 60%|█████▉    | 393/658 [00:26<00:15, 16.88it/s]"
     ]
    },
    {
     "name": "stdout",
     "output_type": "stream",
     "text": [
      "3C 326_II.fits\n",
      "3C 336_II.fits\n",
      "SDSS J090245.43+164710.4_I.fits\n",
      "3C 268.2_II.fits\n"
     ]
    },
    {
     "name": "stderr",
     "output_type": "stream",
     "text": [
      " 60%|██████    | 397/658 [00:26<00:15, 17.06it/s]"
     ]
    },
    {
     "name": "stdout",
     "output_type": "stream",
     "text": [
      "SDSS J132302.49+172832.9_I.fits\n",
      "4C 61.34_II.fits\n",
      "4C -04.53_II.fits\n",
      "TXS 1521+195_II.fits\n"
     ]
    },
    {
     "name": "stderr",
     "output_type": "stream",
     "text": [
      " 61%|██████    | 401/658 [00:26<00:15, 17.03it/s]"
     ]
    },
    {
     "name": "stdout",
     "output_type": "stream",
     "text": [
      "3C 285_II.fits\n",
      "3C 270.1_II.fits\n",
      "3C 295_II.fits\n",
      "SDSS J152326.91+283732.5_I.fits\n"
     ]
    },
    {
     "name": "stderr",
     "output_type": "stream",
     "text": [
      " 62%|██████▏   | 405/658 [00:27<00:14, 17.08it/s]"
     ]
    },
    {
     "name": "stdout",
     "output_type": "stream",
     "text": [
      "SDSS J013327.25-082416.4_I.fits\n",
      "SDSS J162700.42+275547.7_I.fits\n",
      "SDSS J142616.34+005015.3_I.fits\n",
      "TXS 1229-013_II.fits\n"
     ]
    },
    {
     "name": "stderr",
     "output_type": "stream",
     "text": [
      " 62%|██████▏   | 409/658 [00:27<00:14, 16.87it/s]"
     ]
    },
    {
     "name": "stdout",
     "output_type": "stream",
     "text": [
      "SDSS J164053.90+324728.4_I.fits\n",
      "BWE 1545+1505_I.fits\n",
      "SDSS J150148.14+163345.6_I.fits\n",
      "SDSS J082729.73+530733.4_I.fits\n"
     ]
    },
    {
     "name": "stderr",
     "output_type": "stream",
     "text": [
      " 63%|██████▎   | 413/658 [00:27<00:14, 17.05it/s]"
     ]
    },
    {
     "name": "stdout",
     "output_type": "stream",
     "text": [
      "3C 293_I.fits\n",
      "7C 1528+2910_II.fits\n",
      "SDSS J124622.48+075327.9_I.fits\n",
      "SDSS J081604.40+112449.4_I.fits\n"
     ]
    },
    {
     "name": "stderr",
     "output_type": "stream",
     "text": [
      " 63%|██████▎   | 417/658 [00:27<00:14, 17.12it/s]"
     ]
    },
    {
     "name": "stdout",
     "output_type": "stream",
     "text": [
      "SDSS J080923.10+211546.2_I.fits\n",
      "TXS 1433-015_II.fits\n",
      "4C 09.45_II.fits\n",
      "4C -02.60_II.fits\n"
     ]
    },
    {
     "name": "stderr",
     "output_type": "stream",
     "text": [
      " 64%|██████▍   | 421/658 [00:28<00:13, 17.08it/s]"
     ]
    },
    {
     "name": "stdout",
     "output_type": "stream",
     "text": [
      "4C -00.55_II.fits\n",
      "3C 277.2_II.fits\n",
      "SDSS J170543.99+583001.2_I.fits\n",
      "4C 52.22_II.fits\n"
     ]
    },
    {
     "name": "stderr",
     "output_type": "stream",
     "text": [
      " 65%|██████▍   | 425/658 [00:28<00:13, 16.99it/s]"
     ]
    },
    {
     "name": "stdout",
     "output_type": "stream",
     "text": [
      "SDSS J125434.93-023412.4_I.fits\n",
      "3C 212_II.fits\n",
      "SDSS J120522.29+050941.4_I.fits\n",
      "3C 202_II.fits\n"
     ]
    },
    {
     "name": "stderr",
     "output_type": "stream",
     "text": [
      " 65%|██████▌   | 429/658 [00:28<00:13, 16.91it/s]"
     ]
    },
    {
     "name": "stdout",
     "output_type": "stream",
     "text": [
      "TXS 1508+128_II.fits\n",
      "SDSS J121110.99+060744.1_I.fits\n",
      "SDSS J093305.27+291015.1_I.fits\n",
      "SDSS J104233.38+363946.5_I.fits\n"
     ]
    },
    {
     "name": "stderr",
     "output_type": "stream",
     "text": [
      " 66%|██████▌   | 433/658 [00:28<00:13, 16.87it/s]"
     ]
    },
    {
     "name": "stdout",
     "output_type": "stream",
     "text": [
      "TXS 1512+227_I.fits\n",
      "7C 1454+2753_II.fits\n",
      "SDSS J111337.13+234846.5_I.fits\n",
      "SDSS J080113.28+344030.8_I.fits\n"
     ]
    },
    {
     "name": "stderr",
     "output_type": "stream",
     "text": [
      " 66%|██████▋   | 437/658 [00:29<00:12, 17.13it/s]"
     ]
    },
    {
     "name": "stdout",
     "output_type": "stream",
     "text": [
      "4C 17.60_II.fits\n",
      "TXS 1512+104B_II.fits\n",
      "3C 337_II.fits\n",
      "3C 327_II.fits\n"
     ]
    },
    {
     "name": "stderr",
     "output_type": "stream",
     "text": [
      " 67%|██████▋   | 441/658 [00:29<00:12, 17.08it/s]"
     ]
    },
    {
     "name": "stdout",
     "output_type": "stream",
     "text": [
      "4C 15.45_II.fits\n",
      "SDSS J152235.19+155707.6_I.fits\n",
      "4C 37.29_II.fits\n",
      "SDSS J120425.29+034510.6_I.fits\n"
     ]
    },
    {
     "name": "stderr",
     "output_type": "stream",
     "text": [
      " 68%|██████▊   | 445/658 [00:29<00:12, 16.93it/s]"
     ]
    },
    {
     "name": "stdout",
     "output_type": "stream",
     "text": [
      "SDSS J135214.56+123401.7_I.fits\n",
      "TXS 1458+204_I.fits\n",
      "TXS 1440+119_II.fits\n",
      "3C 287.1_II.fits\n"
     ]
    },
    {
     "name": "stderr",
     "output_type": "stream",
     "text": [
      " 68%|██████▊   | 449/658 [00:29<00:12, 16.60it/s]"
     ]
    },
    {
     "name": "stdout",
     "output_type": "stream",
     "text": [
      "4C 34.47_II.fits\n",
      "1435+0243_II.fits\n",
      "1412-0075_II.fits\n",
      "SDSS J111037.33+541135.7_I.fits\n"
     ]
    },
    {
     "name": "stderr",
     "output_type": "stream",
     "text": [
      " 69%|██████▉   | 453/658 [00:29<00:12, 16.96it/s]"
     ]
    },
    {
     "name": "stdout",
     "output_type": "stream",
     "text": [
      "3C 294_II.fits\n",
      "TXS 1431-011_II.fits\n",
      "3C 284_II.fits\n",
      "TXS 1431-001_II.fits\n"
     ]
    },
    {
     "name": "stderr",
     "output_type": "stream",
     "text": [
      " 69%|██████▉   | 457/658 [00:30<00:11, 17.04it/s]"
     ]
    },
    {
     "name": "stdout",
     "output_type": "stream",
     "text": [
      "SDSS J004148.22-091703.1_I.fits\n",
      "TXS 1432+028_II.fits\n",
      "DA 240_II.fits\n",
      "4C 53.24_II.fits\n"
     ]
    },
    {
     "name": "stderr",
     "output_type": "stream",
     "text": [
      " 70%|███████   | 461/658 [00:30<00:11, 16.98it/s]"
     ]
    },
    {
     "name": "stdout",
     "output_type": "stream",
     "text": [
      "SDSS J150408.01+565545.4_I.fits\n",
      "TXS 1551+179_II.fits\n",
      "SDSS J133038.01+390815.4_I.fits\n",
      "SDSS J002900.98-011341.7_I.fits\n"
     ]
    },
    {
     "name": "stderr",
     "output_type": "stream",
     "text": [
      " 71%|███████   | 465/658 [00:30<00:11, 17.06it/s]"
     ]
    },
    {
     "name": "stdout",
     "output_type": "stream",
     "text": [
      "4C 33.27_II.fits\n",
      "4C 20.24_II.fits\n",
      "SDSS J111211.37+304352.3_I.fits\n",
      "SDSS J092935.02+625659.3_I.fits\n"
     ]
    },
    {
     "name": "stderr",
     "output_type": "stream",
     "text": [
      " 71%|███████▏  | 469/658 [00:30<00:11, 17.13it/s]"
     ]
    },
    {
     "name": "stdout",
     "output_type": "stream",
     "text": [
      "SDSS J134529.50+054952.9_I.fits\n",
      "SDSS J214239.29-080423.8_I.fits\n",
      "SDSS J082028.09+485347.3_I.fits\n",
      "SDSS J083224.13+164949.1_I.fits\n"
     ]
    },
    {
     "name": "stderr",
     "output_type": "stream",
     "text": [
      " 72%|███████▏  | 473/658 [00:31<00:10, 16.98it/s]"
     ]
    },
    {
     "name": "stdout",
     "output_type": "stream",
     "text": [
      "SDSS J105259.97+430255.0_I.fits\n",
      "4C 12.42_I.fits\n",
      "3C 269_II.fits\n",
      "4C 17.56_II.fits\n"
     ]
    },
    {
     "name": "stderr",
     "output_type": "stream",
     "text": [
      " 72%|███████▏  | 477/658 [00:31<00:10, 17.12it/s]"
     ]
    },
    {
     "name": "stdout",
     "output_type": "stream",
     "text": [
      "SDSS J013503.43-005427.6_I.fits\n",
      "TXS 1411+019_II.fits\n",
      "4C 20.29a_II.fits\n",
      "SDSS J152737.36+412947.1_I.fits\n"
     ]
    },
    {
     "name": "stderr",
     "output_type": "stream",
     "text": [
      " 73%|███████▎  | 481/658 [00:31<00:10, 17.19it/s]"
     ]
    },
    {
     "name": "stdout",
     "output_type": "stream",
     "text": [
      "SDSS J212005.00-075350.1_I.fits\n",
      "SDSS J011255.11-095040.6_I.fits\n",
      "4C 13.41_II.fits\n",
      "SDSS J152945.60+304235.6_I.fits\n"
     ]
    },
    {
     "name": "stderr",
     "output_type": "stream",
     "text": [
      " 74%|███████▎  | 485/658 [00:31<00:10, 17.04it/s]"
     ]
    },
    {
     "name": "stdout",
     "output_type": "stream",
     "text": [
      "SDSS J121332.93+072516.9_I.fits\n",
      "TXS 1448+164_II.fits\n",
      "3C 234_II.fits\n",
      "4C 43.22_II.fits\n"
     ]
    },
    {
     "name": "stderr",
     "output_type": "stream",
     "text": [
      " 74%|███████▍  | 489/658 [00:32<00:09, 17.14it/s]"
     ]
    },
    {
     "name": "stdout",
     "output_type": "stream",
     "text": [
      "4C 05.57_I.fits\n",
      "TXS 1454+139_II.fits\n",
      "4C 08.38_II.fits\n",
      "SDSS J074125.85+480914.3_I.fits\n"
     ]
    },
    {
     "name": "stderr",
     "output_type": "stream",
     "text": [
      " 75%|███████▍  | 493/658 [00:32<00:09, 16.94it/s]"
     ]
    },
    {
     "name": "stdout",
     "output_type": "stream",
     "text": [
      "NGC 5782_I.fits\n",
      "4C-02.43_II.fits\n",
      "TXS 1423+019_II.fits\n",
      "SDSS J143257.81+043715.1_I.fits\n"
     ]
    },
    {
     "name": "stderr",
     "output_type": "stream",
     "text": [
      " 76%|███████▌  | 497/658 [00:32<00:09, 17.02it/s]"
     ]
    },
    {
     "name": "stdout",
     "output_type": "stream",
     "text": [
      "4C 18.45_II.fits\n",
      "SDSS J091442.02+152155.7_I.fits\n",
      "SDSS J152500.83+332359.8_I.fits\n",
      "4C 05.53_II.fits\n"
     ]
    },
    {
     "name": "stderr",
     "output_type": "stream",
     "text": [
      " 76%|███████▌  | 501/658 [00:33<00:13, 11.87it/s]"
     ]
    },
    {
     "name": "stdout",
     "output_type": "stream",
     "text": [
      "SDSS J142649.23+621005.9_I.fits\n",
      "SDSS J112603.59+545329.1_I.fits\n",
      "TXS 1421+006_II.fits\n",
      "SDSS J105147.39+552308.3_I.fits\n"
     ]
    },
    {
     "name": "stderr",
     "output_type": "stream",
     "text": [
      " 77%|███████▋  | 505/658 [00:33<00:10, 14.03it/s]"
     ]
    },
    {
     "name": "stdout",
     "output_type": "stream",
     "text": [
      "4C 11.40_II.fits\n",
      "SDSS J100757.06+280147.9_I.fits\n",
      "3C 280.1_II.fits\n",
      "1424-0174_II.fits\n"
     ]
    },
    {
     "name": "stderr",
     "output_type": "stream",
     "text": [
      " 77%|███████▋  | 509/658 [00:33<00:09, 15.46it/s]"
     ]
    },
    {
     "name": "stdout",
     "output_type": "stream",
     "text": [
      "SDSS J161242.69+295404.7_I.fits\n",
      "SDSS J171137.98+580330.2_I.fits\n",
      "3C 200_II.fits\n",
      "3C 210_II.fits\n"
     ]
    },
    {
     "name": "stderr",
     "output_type": "stream",
     "text": [
      " 78%|███████▊  | 513/658 [00:33<00:09, 16.10it/s]"
     ]
    },
    {
     "name": "stdout",
     "output_type": "stream",
     "text": [
      "4C 03.18_II.fits\n",
      "3C 272_II.fits\n",
      "SDSS J115816.37+340605.9_I.fits\n",
      "TXS 1508+148_II.fits\n"
     ]
    },
    {
     "name": "stderr",
     "output_type": "stream",
     "text": [
      " 79%|███████▊  | 517/658 [00:34<00:09, 15.46it/s]"
     ]
    },
    {
     "name": "stdout",
     "output_type": "stream",
     "text": [
      "SDSS J085321.54+331629.9_I.fits\n",
      "SDSS J165744.77+215611.1_I.fits\n",
      "4C-01.19_II.fits\n",
      "SDSS J155721.39+544015.9_I.fits\n"
     ]
    },
    {
     "name": "stderr",
     "output_type": "stream",
     "text": [
      " 79%|███████▉  | 521/658 [00:34<00:08, 16.30it/s]"
     ]
    },
    {
     "name": "stdout",
     "output_type": "stream",
     "text": [
      "TXS 1411+002_II.fits\n",
      "4C 22.25_II.fits\n",
      "TXS 1422-010_II.fits\n",
      "TXS 1454+244_II.fits\n"
     ]
    },
    {
     "name": "stderr",
     "output_type": "stream",
     "text": [
      " 80%|███████▉  | 525/658 [00:34<00:07, 16.66it/s]"
     ]
    },
    {
     "name": "stdout",
     "output_type": "stream",
     "text": [
      "SDSS J120943.62-020459.6_I.fits\n",
      "SDSS J112352.34+443735.6_I.fits\n",
      "1438-0085_II.fits\n",
      "3C 192_II.fits\n"
     ]
    },
    {
     "name": "stderr",
     "output_type": "stream",
     "text": [
      " 80%|████████  | 529/658 [00:34<00:07, 16.83it/s]"
     ]
    },
    {
     "name": "stdout",
     "output_type": "stream",
     "text": [
      "4C 29.41_I.fits\n",
      "3C 325_II.fits\n",
      "3C 303_II.fits\n",
      "3C 313_II.fits\n"
     ]
    },
    {
     "name": "stderr",
     "output_type": "stream",
     "text": [
      " 81%|████████  | 533/658 [00:34<00:07, 17.05it/s]"
     ]
    },
    {
     "name": "stdout",
     "output_type": "stream",
     "text": [
      "1414+0182_II.fits\n",
      "TXS 1512+104_I.fits\n",
      "1419-0324_II.fits\n",
      "TXS 1439+252_II.fits\n"
     ]
    },
    {
     "name": "stderr",
     "output_type": "stream",
     "text": [
      " 82%|████████▏ | 537/658 [00:35<00:07, 17.02it/s]"
     ]
    },
    {
     "name": "stdout",
     "output_type": "stream",
     "text": [
      "SDSS J132736.13+270816.8_I.fits\n",
      "SDSS J124647.52+545315.0_I.fits\n",
      "3C 244.1_II.fits\n",
      "TXS 1447+213_II.fits\n"
     ]
    },
    {
     "name": "stderr",
     "output_type": "stream",
     "text": [
      " 82%|████████▏ | 541/658 [00:35<00:06, 16.96it/s]"
     ]
    },
    {
     "name": "stdout",
     "output_type": "stream",
     "text": [
      "1423-0005_II.fits\n",
      "1431-0093_II.fits\n",
      "SDSS J121114.08+060833.9_I.fits\n",
      "SDSS J094202.04+105818.3_I.fits\n"
     ]
    },
    {
     "name": "stderr",
     "output_type": "stream",
     "text": [
      " 83%|████████▎ | 545/658 [00:35<00:06, 17.06it/s]"
     ]
    },
    {
     "name": "stdout",
     "output_type": "stream",
     "text": [
      "4C 51.25_II.fits\n",
      "Cul 1508+182_I.fits\n",
      "SDSS J171223.15+640157.0_I.fits\n"
     ]
    },
    {
     "name": "stderr",
     "output_type": "stream",
     "text": [
      "\r",
      " 83%|████████▎ | 547/658 [00:35<00:08, 12.70it/s]"
     ]
    },
    {
     "name": "stdout",
     "output_type": "stream",
     "text": [
      "SDSS J103126.60+115250.5_I.fits\n",
      "TXS 1513+144_II.fits\n",
      "3C 219_II.fits\n"
     ]
    },
    {
     "name": "stderr",
     "output_type": "stream",
     "text": [
      " 84%|████████▎ | 551/658 [00:36<00:07, 14.70it/s]"
     ]
    },
    {
     "name": "stdout",
     "output_type": "stream",
     "text": [
      "4C 12.55_II.fits\n",
      "4C 20.36_II.fits\n",
      "4C 46.21_II.fits\n",
      "4C 55.22_II.fits\n"
     ]
    },
    {
     "name": "stderr",
     "output_type": "stream",
     "text": [
      " 84%|████████▍ | 555/658 [00:36<00:06, 15.31it/s]"
     ]
    },
    {
     "name": "stdout",
     "output_type": "stream",
     "text": [
      "4C -05.60_II.fits\n",
      "TXS 1549+107_II.fits\n",
      "TXS 1545+279_II.fits\n",
      "1409-0307_II.fits\n"
     ]
    },
    {
     "name": "stderr",
     "output_type": "stream",
     "text": [
      " 85%|████████▍ | 559/658 [00:36<00:06, 16.30it/s]"
     ]
    },
    {
     "name": "stdout",
     "output_type": "stream",
     "text": [
      "GB6 B1431+0230_II.fits\n",
      "4C 24.31_II.fits\n",
      "4C 16.42_II.fits\n",
      "4C 37.32_II.fits\n"
     ]
    },
    {
     "name": "stderr",
     "output_type": "stream",
     "text": [
      " 86%|████████▌ | 563/658 [00:36<00:05, 16.07it/s]"
     ]
    },
    {
     "name": "stdout",
     "output_type": "stream",
     "text": [
      "3C 264_I.fits\n",
      "SDSS J122156.16+020450.8_I.fits\n",
      "3C 244_II.fits\n",
      "3C 254_II.fits\n"
     ]
    },
    {
     "name": "stderr",
     "output_type": "stream",
     "text": [
      " 86%|████████▌ | 567/658 [00:37<00:05, 16.54it/s]"
     ]
    },
    {
     "name": "stdout",
     "output_type": "stream",
     "text": [
      "3C 226_II.fits\n",
      "3C 236_II.fits\n",
      "SDSS J090018.16+074535.5_I.fits\n",
      "SDSS J073014.37+393200.4_I.fits\n"
     ]
    },
    {
     "name": "stderr",
     "output_type": "stream",
     "text": [
      " 87%|████████▋ | 571/658 [00:37<00:05, 16.27it/s]"
     ]
    },
    {
     "name": "stdout",
     "output_type": "stream",
     "text": [
      "1432-0305_II.fits\n",
      "SDSS J154709.22+353846.1_I.fits\n",
      "3C 315_I.fits\n",
      "4C 00.50_II.fits\n"
     ]
    },
    {
     "name": "stderr",
     "output_type": "stream",
     "text": [
      " 87%|████████▋ | 575/658 [00:37<00:05, 16.43it/s]"
     ]
    },
    {
     "name": "stdout",
     "output_type": "stream",
     "text": [
      "4C 00.40_II.fits\n",
      "SDSS J234702.42-010300.9_I.fits\n",
      "3C 323.1_II.fits\n",
      "TXS 1522+281_II.fits\n"
     ]
    },
    {
     "name": "stderr",
     "output_type": "stream",
     "text": [
      " 88%|████████▊ | 579/658 [00:37<00:05, 13.46it/s]"
     ]
    },
    {
     "name": "stdout",
     "output_type": "stream",
     "text": [
      "4C 45.13_II.fits\n",
      "7C 1511+2422_II.fits\n",
      "SDSS J161114.11+265524.2_I.fits\n"
     ]
    },
    {
     "name": "stderr",
     "output_type": "stream",
     "text": [
      " 89%|████████▊ | 583/658 [00:38<00:05, 14.35it/s]"
     ]
    },
    {
     "name": "stdout",
     "output_type": "stream",
     "text": [
      "TXS 1444+254_II.fits\n",
      "SDSS J154155.16+012517.4_I.fits\n",
      "4C 25.36_II.fits\n",
      "4C-02.46_I.fits\n"
     ]
    },
    {
     "name": "stderr",
     "output_type": "stream",
     "text": [
      " 89%|████████▉ | 587/658 [00:38<00:04, 15.82it/s]"
     ]
    },
    {
     "name": "stdout",
     "output_type": "stream",
     "text": [
      "J1553+1401_II.fits\n",
      "4C 02.29_II.fits\n",
      "SDSS J025437.99+005621.9_I.fits\n",
      "TXS 1509+229_II.fits\n"
     ]
    },
    {
     "name": "stderr",
     "output_type": "stream",
     "text": [
      " 90%|████████▉ | 591/658 [00:38<00:04, 16.66it/s]"
     ]
    },
    {
     "name": "stdout",
     "output_type": "stream",
     "text": [
      "TXS 1437-001_II.fits\n",
      "SDSS J153621.11+084112.2_I.fits\n",
      "SDSS J121619.95+155417.7_I.fits\n",
      "4C 12.54_II.fits\n"
     ]
    },
    {
     "name": "stderr",
     "output_type": "stream",
     "text": [
      " 90%|█████████ | 595/658 [00:38<00:03, 16.99it/s]"
     ]
    },
    {
     "name": "stdout",
     "output_type": "stream",
     "text": [
      "1438+0068_I.fits\n",
      "3C 208_II.fits\n",
      "1432+0078_II.fits\n",
      "SDSS J121640.12+034231.5_I.fits\n"
     ]
    },
    {
     "name": "stderr",
     "output_type": "stream",
     "text": [
      " 91%|█████████ | 599/658 [00:39<00:03, 17.09it/s]"
     ]
    },
    {
     "name": "stdout",
     "output_type": "stream",
     "text": [
      "TXS 1515+160_II.fits\n",
      "SDSS J130203.58-005012.3_I.fits\n",
      "SDSS J152715.31+133650.9_I.fits\n",
      "SDSS J141427.10+282830.5_I.fits\n"
     ]
    },
    {
     "name": "stderr",
     "output_type": "stream",
     "text": [
      " 92%|█████████▏| 603/658 [00:39<00:03, 17.17it/s]"
     ]
    },
    {
     "name": "stdout",
     "output_type": "stream",
     "text": [
      "4C 16.43_II.fits\n",
      "SDSS J004300.63-091346.3_I.fits\n",
      "SDSS J124135.94+162033.7_I.fits\n",
      "BWE 1459+2451_II.fits\n"
     ]
    },
    {
     "name": "stderr",
     "output_type": "stream",
     "text": [
      " 92%|█████████▏| 607/658 [00:39<00:03, 16.96it/s]"
     ]
    },
    {
     "name": "stdout",
     "output_type": "stream",
     "text": [
      "4C 59.13_II.fits\n",
      "TXS 1554+144_II.fits\n",
      "M87_I.fits\n",
      "SDSS J073505.26+415827.5_I.fits\n"
     ]
    },
    {
     "name": "stderr",
     "output_type": "stream",
     "text": [
      " 93%|█████████▎| 611/658 [00:39<00:02, 17.17it/s]"
     ]
    },
    {
     "name": "stdout",
     "output_type": "stream",
     "text": [
      "PKS 1227+119_I.fits\n",
      "SDSS J083159.69+303930.7_I.fits\n",
      "SDSS J145555.27+115141.4_I.fits\n",
      "TXS 1507+235_II.fits\n"
     ]
    },
    {
     "name": "stderr",
     "output_type": "stream",
     "text": [
      " 93%|█████████▎| 615/658 [00:40<00:02, 17.12it/s]"
     ]
    },
    {
     "name": "stdout",
     "output_type": "stream",
     "text": [
      "SDSS J014029.59+001825.8_I.fits\n",
      "4C 43.21_II.fits\n",
      "TXS 1459+194_II.fits\n",
      "SDSS J103930.43+394718.9_I.fits\n"
     ]
    },
    {
     "name": "stderr",
     "output_type": "stream",
     "text": [
      "\r",
      " 94%|█████████▍| 617/658 [00:40<00:02, 15.54it/s]"
     ]
    },
    {
     "name": "stdout",
     "output_type": "stream",
     "text": [
      "TXS 1455+253_II.fits\n",
      "3C 227_II.fits\n",
      "3C 305_I.fits\n"
     ]
    },
    {
     "name": "stderr",
     "output_type": "stream",
     "text": [
      " 94%|█████████▍| 621/658 [00:40<00:02, 16.35it/s]"
     ]
    },
    {
     "name": "stdout",
     "output_type": "stream",
     "text": [
      "4C 11.51_II.fits\n",
      "J142033-00_II.fits\n",
      "3C 211_II.fits\n",
      "TXS 1541+136_II.fits\n"
     ]
    },
    {
     "name": "stderr",
     "output_type": "stream",
     "text": [
      " 95%|█████████▍| 625/658 [00:40<00:01, 17.04it/s]"
     ]
    },
    {
     "name": "stdout",
     "output_type": "stream",
     "text": [
      "TXS 1152+551_II.fits\n",
      "TXS 1534+145_II.fits\n",
      "4C 41.22_II.fits\n",
      "4C-00.43_II.fits\n"
     ]
    },
    {
     "name": "stderr",
     "output_type": "stream",
     "text": [
      " 96%|█████████▌| 629/658 [00:40<00:01, 17.11it/s]"
     ]
    },
    {
     "name": "stdout",
     "output_type": "stream",
     "text": [
      "SDSS J104045.34+395448.5_I.fits\n",
      "4C 53.18_II.fits\n",
      "TXS 1428-013_II.fits\n",
      "NGC 6109_I.fits\n"
     ]
    },
    {
     "name": "stderr",
     "output_type": "stream",
     "text": [
      " 96%|█████████▌| 633/658 [00:41<00:01, 16.95it/s]"
     ]
    },
    {
     "name": "stdout",
     "output_type": "stream",
     "text": [
      "3C 263.1_II.fits\n",
      "SDSS J121121.12+141439.2_I.fits\n",
      "4C 38.29_II.fits\n",
      "SDSS J113359.23+490343.4_I.fits\n"
     ]
    },
    {
     "name": "stderr",
     "output_type": "stream",
     "text": [
      " 97%|█████████▋| 637/658 [00:41<00:01, 17.19it/s]"
     ]
    },
    {
     "name": "stdout",
     "output_type": "stream",
     "text": [
      "SDSS J153215.31+433844.5_I.fits\n",
      "TXS 1519+103_II.fits\n",
      "1408+0281_II.fits\n",
      "TXS 1440+147_II.fits\n"
     ]
    },
    {
     "name": "stderr",
     "output_type": "stream",
     "text": [
      " 97%|█████████▋| 641/658 [00:41<00:00, 17.16it/s]"
     ]
    },
    {
     "name": "stdout",
     "output_type": "stream",
     "text": [
      "GB6 B1540+11_II.fits\n",
      "TXS 1413+007_II.fits\n",
      "1438-0100_I.fits\n",
      "TXS 1515+146_II.fits\n"
     ]
    },
    {
     "name": "stderr",
     "output_type": "stream",
     "text": [
      " 98%|█████████▊| 645/658 [00:41<00:00, 17.25it/s]"
     ]
    },
    {
     "name": "stdout",
     "output_type": "stream",
     "text": [
      "TXS 1519+228_II.fits\n",
      "3C 356_II.fits\n",
      "SDSS J015253.79-001005.5_I.fits\n",
      "J141932+00_II.fits\n"
     ]
    },
    {
     "name": "stderr",
     "output_type": "stream",
     "text": [
      " 99%|█████████▊| 649/658 [00:42<00:00, 17.27it/s]"
     ]
    },
    {
     "name": "stdout",
     "output_type": "stream",
     "text": [
      "SDSS J102008.61+174817.4_I.fits\n",
      "3C 334_II.fits\n",
      "TXS 1416+006_II.fits\n",
      "3C 324_II.fits\n"
     ]
    },
    {
     "name": "stderr",
     "output_type": "stream",
     "text": [
      " 99%|█████████▉| 653/658 [00:42<00:00, 17.22it/s]"
     ]
    },
    {
     "name": "stdout",
     "output_type": "stream",
     "text": [
      "SDSS J164548.45+393227.4_I.fits\n",
      "J142235-01_II.fits\n",
      "SDSS J074351.25+282128.0_I.fits\n",
      "TXS 1447+224_II.fits\n"
     ]
    },
    {
     "name": "stderr",
     "output_type": "stream",
     "text": [
      "100%|██████████| 658/658 [00:42<00:00, 15.44it/s]"
     ]
    },
    {
     "name": "stdout",
     "output_type": "stream",
     "text": [
      "SDSS J135655.28+271120.2_I.fits\n",
      "3C 220.2_II.fits\n",
      "SDSS J143638.56+011058.8_I.fits\n"
     ]
    },
    {
     "name": "stderr",
     "output_type": "stream",
     "text": [
      "\n"
     ]
    }
   ],
   "source": [
    "FITS_dir = './2_Source_raw_fits_image/FIRST/'\n",
    "png_dir = './3_Source_preprocessed_png_image/FIRST/'\n",
    "# loop through list and convert to png:\n",
    "fits_list = get_fits_list(FITS_dir)\n",
    "for fitsfile in tqdm(fits_list):\n",
    "    print(fitsfile)\n",
    "    image_data = read_fits_image(FITS_dir+fitsfile)\n",
    "    image_convert(png_dir+fitsfile[:-5], image_data)"
   ]
  }
 ],
 "metadata": {
  "kernelspec": {
   "display_name": "Python 3",
   "language": "python",
   "name": "python3"
  },
  "language_info": {
   "codemirror_mode": {
    "name": "ipython",
    "version": 3
   },
   "file_extension": ".py",
   "mimetype": "text/x-python",
   "name": "python",
   "nbconvert_exporter": "python",
   "pygments_lexer": "ipython3",
   "version": "3.6.8"
  }
 },
 "nbformat": 4,
 "nbformat_minor": 2
}
